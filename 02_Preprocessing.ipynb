{
 "cells": [
  {
   "cell_type": "markdown",
   "metadata": {},
   "source": [
    "##### Spoiler Alert! Spoiler Detection Project"
   ]
  },
  {
   "cell_type": "markdown",
   "metadata": {},
   "source": [
    "## Train-Test-Split and Preprocessing "
   ]
  },
  {
   "cell_type": "code",
   "execution_count": 1,
   "metadata": {},
   "outputs": [],
   "source": [
    "reset -fs"
   ]
  },
  {
   "cell_type": "code",
   "execution_count": 2,
   "metadata": {},
   "outputs": [],
   "source": [
    "import seaborn as sns\n",
    "import pandas as pd\n",
    "import numpy as np\n",
    "import gzip\n",
    "import matplotlib.pyplot as plt\n",
    "from sklearn.model_selection import StratifiedShuffleSplit\n",
    "from sklearn.pipeline import Pipeline\n",
    "from sklearn.preprocessing import StandardScaler\n",
    "from datetime import datetime"
   ]
  },
  {
   "cell_type": "code",
   "execution_count": 49,
   "metadata": {},
   "outputs": [],
   "source": [
    "#Disable scientific notation for floats\n",
    "pd.options.display.float_format = '{:,}'.format\n",
    "\n",
    "#Enable viewing more (in this case: all) features of a dataset\n",
    "pd.set_option('display.max_columns', 500)\n",
    "\n",
    "#ignore warnings\n",
    "import warnings\n",
    "warnings.filterwarnings(\"ignore\")"
   ]
  },
  {
   "cell_type": "code",
   "execution_count": null,
   "metadata": {},
   "outputs": [],
   "source": [
    "#Load datafile\n",
    "df = pd.read_hdf('data/complete_data.h5')"
   ]
  },
  {
   "cell_type": "markdown",
   "metadata": {},
   "source": [
    "### Train-Test-Split"
   ]
  },
  {
   "cell_type": "code",
   "execution_count": null,
   "metadata": {},
   "outputs": [],
   "source": [
    "# Split train, validation and test test with ratios 70% - 20% -10%\n",
    "train, validation, test = np.split(df.sample(frac=1), [int(.7*len(df)), int(.9*len(df))])"
   ]
  },
  {
   "cell_type": "code",
   "execution_count": null,
   "metadata": {},
   "outputs": [],
   "source": [
    "#Save validation and test sets (train set will be saved after preprocessing) as HDF5\n",
    "test.to_hdf('data/test_data.h5', key = 'test')\n",
    "validation.to_hdf('data/validation_data.h5', key = 'validation')"
   ]
  },
  {
   "cell_type": "markdown",
   "metadata": {},
   "source": [
    "### Data Preprocessing"
   ]
  },
  {
   "cell_type": "markdown",
   "metadata": {},
   "source": [
    "From now on, only the train data is manipulated, validation and test sets are only worked on just before model evaluation."
   ]
  },
  {
   "cell_type": "code",
   "execution_count": 5,
   "metadata": {},
   "outputs": [],
   "source": [
    "#Reset the index\n",
    "train = train.reset_index()"
   ]
  },
  {
   "cell_type": "code",
   "execution_count": 6,
   "metadata": {},
   "outputs": [],
   "source": [
    "#Drop the feature containing the old index\n",
    "train.drop('index', axis = 1, inplace = True)"
   ]
  },
  {
   "cell_type": "code",
   "execution_count": 7,
   "metadata": {},
   "outputs": [
    {
     "name": "stdout",
     "output_type": "stream",
     "text": [
      "<class 'pandas.core.frame.DataFrame'>\n",
      "RangeIndex: 964623 entries, 0 to 964622\n",
      "Data columns (total 16 columns):\n",
      " #   Column             Non-Null Count   Dtype \n",
      "---  ------             --------------   ----- \n",
      " 0   user_id            964623 non-null  object\n",
      " 1   time               964623 non-null  object\n",
      " 2   review             964623 non-null  object\n",
      " 3   rating             964623 non-null  int64 \n",
      " 4   spoiler            964623 non-null  bool  \n",
      " 5   book_id            964623 non-null  object\n",
      " 6   review_id          964623 non-null  object\n",
      " 7   genres             964623 non-null  object\n",
      " 8   title              964623 non-null  object\n",
      " 9   description        964623 non-null  object\n",
      " 10  publication_year   964623 non-null  object\n",
      " 11  publication_month  964623 non-null  object\n",
      " 12  publication_day    964623 non-null  object\n",
      " 13  average_rating     964623 non-null  object\n",
      " 14  ratings_count      964623 non-null  object\n",
      " 15  num_pages          964623 non-null  object\n",
      "dtypes: bool(1), int64(1), object(14)\n",
      "memory usage: 111.3+ MB\n"
     ]
    }
   ],
   "source": [
    "#Information on data types and missing values\n",
    "train.info()"
   ]
  },
  {
   "cell_type": "code",
   "execution_count": 8,
   "metadata": {},
   "outputs": [
    {
     "data": {
      "text/plain": [
       "714438                                                   {}\n",
       "929095    {'young-adult': 998, 'fantasy, paranormal': 13...\n",
       "287982    {'young-adult': 998, 'fantasy, paranormal': 13...\n",
       "183349    {'young-adult': 998, 'fantasy, paranormal': 13...\n",
       "554088    {'young-adult': 998, 'fantasy, paranormal': 13...\n",
       "                                ...                        \n",
       "626981    {'children': 10593, 'fantasy, paranormal': 282...\n",
       "543141                      {'children': 102, 'fiction': 7}\n",
       "46848                       {'children': 102, 'fiction': 7}\n",
       "351397                      {'children': 102, 'fiction': 7}\n",
       "601652                      {'children': 102, 'fiction': 7}\n",
       "Name: genres, Length: 964623, dtype: object"
      ]
     },
     "execution_count": 8,
     "metadata": {},
     "output_type": "execute_result"
    }
   ],
   "source": [
    "#Show unique values in the sorted genres column. Since the genres column contains dictionaries, \n",
    "#the data type is temporarily changed to string format. \n",
    "values = train.genres.astype('str').sort_values(ascending = False)\n",
    "values"
   ]
  },
  {
   "cell_type": "markdown",
   "metadata": {},
   "source": [
    "#### Change data and data types"
   ]
  },
  {
   "cell_type": "markdown",
   "metadata": {},
   "source": [
    "Obviously, some changes are necessary:\n",
    "* Missing values are denoted as '' or '[]', respectively, and need to be changed to np.nan\n",
    "* Datatypes need to be changed for some variables:\n",
    "  * _time_ to date\n",
    "  * _book_id_ to string\n",
    "  * _publication_year_, _publication_month_, _publication_day_, _average_rating_, _ratings_count_, _num_pages_ to numeric"
   ]
  },
  {
   "cell_type": "markdown",
   "metadata": {},
   "source": [
    "#### Change data types"
   ]
  },
  {
   "cell_type": "code",
   "execution_count": 9,
   "metadata": {},
   "outputs": [],
   "source": [
    "#Change the data type of book_id to string\n",
    "train.book_id = train.book_id.astype('str')"
   ]
  },
  {
   "cell_type": "code",
   "execution_count": 10,
   "metadata": {},
   "outputs": [
    {
     "data": {
      "text/plain": [
       "Index(['user_id', 'time', 'review', 'rating', 'spoiler', 'book_id',\n",
       "       'review_id', 'genres', 'title', 'description', 'publication_year',\n",
       "       'publication_month', 'publication_day', 'average_rating',\n",
       "       'ratings_count', 'num_pages'],\n",
       "      dtype='object')"
      ]
     },
     "execution_count": 10,
     "metadata": {},
     "output_type": "execute_result"
    }
   ],
   "source": [
    "train.columns"
   ]
  },
  {
   "cell_type": "code",
   "execution_count": 11,
   "metadata": {},
   "outputs": [],
   "source": [
    "#Change the data type of time from object to date in the format (YYYY-MM-DD)\n",
    "from datetime import datetime\n",
    "train.time = pd.to_datetime(train.time)"
   ]
  },
  {
   "cell_type": "code",
   "execution_count": 12,
   "metadata": {},
   "outputs": [],
   "source": [
    "#Change datatypes from object to floats.\n",
    "to_num = ['average_rating', 'ratings_count', 'publication_year', 'publication_month', 'publication_day']\n",
    "for col in to_num:\n",
    "    train[col] = pd.to_numeric(train[col], errors = 'coerce')"
   ]
  },
  {
   "cell_type": "markdown",
   "metadata": {},
   "source": [
    "#### Feature Engineering"
   ]
  },
  {
   "cell_type": "markdown",
   "metadata": {},
   "source": [
    "We add a new feature containing the frequency-weighted average of book ratings."
   ]
  },
  {
   "cell_type": "code",
   "execution_count": 13,
   "metadata": {},
   "outputs": [],
   "source": [
    "train['weighted_avg_rating'] = train.average_rating * train.ratings_count"
   ]
  },
  {
   "cell_type": "markdown",
   "metadata": {},
   "source": [
    "The genres column contains more than one genre assignment to the books. Since we only want one genre per book, we create a new column containing the genre most frequently allocated. "
   ]
  },
  {
   "cell_type": "code",
   "execution_count": 14,
   "metadata": {},
   "outputs": [],
   "source": [
    "#Define function fetching the most frequent (= value) genre (= key)\n",
    "import operator\n",
    "\n",
    "def get_genre(dic):\n",
    "    \n",
    "    ''' Return the key of the highest value of dictionary given in.\n",
    "    If the dictionary is empty, return np.nan\n",
    "    '''\n",
    "    \n",
    "    try:\n",
    "        x = max(dic.items(), key = operator.itemgetter(1))[0]\n",
    "        return x\n",
    "    except:\n",
    "        return np.nan  "
   ]
  },
  {
   "cell_type": "code",
   "execution_count": 15,
   "metadata": {},
   "outputs": [],
   "source": [
    "#Use the function defined above to fetch the most frequent genre allocation.\n",
    "#First, write all keys to a list.\n",
    "genre = []\n",
    "for i in range(len(train)):\n",
    "    a = get_genre(train.genres[i])\n",
    "    genre.append(a)"
   ]
  },
  {
   "cell_type": "code",
   "execution_count": 16,
   "metadata": {},
   "outputs": [],
   "source": [
    "#Add the information from the list as a new column to the genre dataframe\n",
    "train['genre'] = pd.Series(genre)"
   ]
  },
  {
   "cell_type": "markdown",
   "metadata": {},
   "source": [
    "We compute another column with overall spoiler labels coded as 0 = \"no spoiler\" and 1 = \"spoiler\"."
   ]
  },
  {
   "cell_type": "code",
   "execution_count": 17,
   "metadata": {},
   "outputs": [],
   "source": [
    "train['spoiler_dum'] = np.where(train['spoiler']== False, 0, 1)"
   ]
  },
  {
   "cell_type": "markdown",
   "metadata": {},
   "source": [
    "To also have sentence-wise labels and review text without labels, we define and apply the following functions:"
   ]
  },
  {
   "cell_type": "code",
   "execution_count": 18,
   "metadata": {},
   "outputs": [],
   "source": [
    "#Get only the labels 0 and 1 from the review\n",
    "def get_labels(x):\n",
    "    return [label for label, text in x]\n",
    "\n",
    "#Get only the text from the review\n",
    "def get_text(x):\n",
    "    return [text for label, text in x]"
   ]
  },
  {
   "cell_type": "code",
   "execution_count": 19,
   "metadata": {},
   "outputs": [],
   "source": [
    "#Apply the function to the data\n",
    "train['sentence_labels'] = train.review.apply(lambda x: get_labels(x))\n",
    "train['review_texts'] = train.review.apply(lambda x: get_text(x))"
   ]
  },
  {
   "cell_type": "code",
   "execution_count": 20,
   "metadata": {},
   "outputs": [],
   "source": [
    "train.review_texts = train.review_texts.astype('str')"
   ]
  },
  {
   "cell_type": "markdown",
   "metadata": {},
   "source": [
    "We also want to delete special and digits characters from the review text and lower the text."
   ]
  },
  {
   "cell_type": "code",
   "execution_count": null,
   "metadata": {},
   "outputs": [],
   "source": [
    "train['raw_text'] = pd.Series('str')"
   ]
  },
  {
   "cell_type": "code",
   "execution_count": null,
   "metadata": {},
   "outputs": [],
   "source": [
    "import re\n",
    "for i in range(len(train)):\n",
    "    train['raw_text'][i] = re.sub('[^a-zA-Z \" \"]', '', train['review_texts'].copy()[i])"
   ]
  },
  {
   "cell_type": "code",
   "execution_count": null,
   "metadata": {},
   "outputs": [],
   "source": [
    "train.head()"
   ]
  },
  {
   "cell_type": "markdown",
   "metadata": {},
   "source": [
    "We finally compute two features with the length (word-wise) of each review since one can hypothesize that longer reviews are more likely to contain spoilers than shorter ones."
   ]
  },
  {
   "cell_type": "code",
   "execution_count": null,
   "metadata": {},
   "outputs": [],
   "source": [
    "train['review_len'] = train.review_texts.str.split(' ').map(len)"
   ]
  },
  {
   "cell_type": "markdown",
   "metadata": {},
   "source": [
    "#### Missing values"
   ]
  },
  {
   "cell_type": "code",
   "execution_count": null,
   "metadata": {},
   "outputs": [],
   "source": [
    "#Denote missing values as np.nan instead of ''.  \n",
    "train.replace('', np.nan, inplace = True)"
   ]
  },
  {
   "cell_type": "code",
   "execution_count": null,
   "metadata": {},
   "outputs": [],
   "source": [
    "# We want to see how many missing values are in every column (as relative frequencies): \n",
    "for col in train.columns:\n",
    "    pct_missing = np.mean(train[col].isna())\n",
    "    print('{} - {}%'.format(col, round(pct_missing*100, 2)))"
   ]
  },
  {
   "cell_type": "markdown",
   "metadata": {},
   "source": [
    "Publication year, month and day also contain missing values. We drop month and day features as well as the rows with missing values for the publication year.\n",
    "Missing values for num_pages are also dropped.\n",
    "\n",
    "This means a reduction of the train set by 12.3%. Since all features containing NaNs are not of major importance, the reduced dataset is stored separately and will be used only when needed."
   ]
  },
  {
   "cell_type": "code",
   "execution_count": 38,
   "metadata": {},
   "outputs": [],
   "source": [
    "#Copy the original train set\n",
    "train_red = train.copy()"
   ]
  },
  {
   "cell_type": "code",
   "execution_count": 39,
   "metadata": {},
   "outputs": [],
   "source": [
    "# Drop the columns and rows not needed in the copied dataframe\n",
    "train_red.drop(columns = ['publication_month', 'publication_day'], axis = 1, inplace = True)\n",
    "train_red.dropna(subset = ['publication_year', 'num_pages', 'description'], inplace = True)"
   ]
  },
  {
   "cell_type": "markdown",
   "metadata": {},
   "source": [
    "#### Outliers"
   ]
  },
  {
   "cell_type": "markdown",
   "metadata": {},
   "source": [
    "We explore boxplots of numeric features for outlier detection."
   ]
  },
  {
   "cell_type": "code",
   "execution_count": 51,
   "metadata": {},
   "outputs": [
    {
     "data": {
      "image/png": "[encoded data removed]",
      "text/plain": [
       "<Figure size 720x432 with 6 Axes>"
      ]
     },
     "metadata": {
      "needs_background": "light"
     },
     "output_type": "display_data"
    }
   ],
   "source": [
    "plot = [train.rating, train.average_rating, train.ratings_count, train.num_pages, train.review_len, train.publication_year]\n",
    "plt.figure(figsize = (10,6))\n",
    "for i in range(len(plot)):\n",
    "    plt.subplot(2,3, i+1)\n",
    "    plt.boxplot(x = plot[i])\n",
    "    plt.title(plot[i].name)"
   ]
  },
  {
   "cell_type": "markdown",
   "metadata": {},
   "source": [
    "Generally, outliers play only a minor role for our project: our main subject is the classification of reviews with regard to spoilers, which might be modulated by other features (we will learn about that in the EDA) but we're only secondarily intersted in these interactions. Therefore, outliers will not be removed from the dataframe but we will account for them in the feature standardization. "
   ]
  },
  {
   "cell_type": "code",
   "execution_count": 44,
   "metadata": {},
   "outputs": [
    {
     "data": {
      "text/plain": [
       "Index(['user_id', 'time', 'review', 'rating', 'spoiler', 'book_id',\n",
       "       'review_id', 'genres', 'title', 'description', 'publication_year',\n",
       "       'publication_month', 'publication_day', 'average_rating',\n",
       "       'ratings_count', 'num_pages', 'weighted_avg_rating', 'genre',\n",
       "       'spoiler_dum', 'sentence_labels', 'review_texts', 'raw_text',\n",
       "       'review_len'],\n",
       "      dtype='object')"
      ]
     },
     "execution_count": 44,
     "metadata": {},
     "output_type": "execute_result"
    }
   ],
   "source": [
    "train.columns"
   ]
  },
  {
   "cell_type": "code",
   "execution_count": null,
   "metadata": {},
   "outputs": [],
   "source": [
    "#Safe the reduced dataframe as HDF5\n",
    "train_red.to_json('data/train_reduced.json')"
   ]
  },
  {
   "cell_type": "code",
   "execution_count": 46,
   "metadata": {},
   "outputs": [],
   "source": [
    "#Save the not reduced dataframe as json (HDF5 is not possible for values too large to convert)\n",
    "train.to_json('data/train_data.json')"
   ]
  },
  {
   "cell_type": "markdown",
   "metadata": {},
   "source": [
    "#### Rescaling of numeric variables"
   ]
  },
  {
   "cell_type": "markdown",
   "metadata": {},
   "source": [
    "Data are rescaled using the RobustScaler.\n",
    "The centering and scaling statistics of this scaler are based on percentiles and are therefore not influenced by a few number of very large marginal outliers. Consequently, the resulting range of the transformed feature values is larger than for the previous scalers and, more importantly, are approximately similar."
   ]
  },
  {
   "cell_type": "code",
   "execution_count": 28,
   "metadata": {},
   "outputs": [],
   "source": [
    "#Select numerica variables\n",
    "train_num = train.copy().select_dtypes('number')"
   ]
  },
  {
   "cell_type": "code",
   "execution_count": 29,
   "metadata": {},
   "outputs": [],
   "source": [
    "#Rescale data\n",
    "from sklearn.preprocessing import MinMaxScaler\n",
    "import pandas as pd\n",
    "scaler = MinMaxScaler()\n",
    "\n",
    "scaled_features = scaler.fit_transform(train_num)\n",
    "train_num_scaled = pd.DataFrame(scaled_features, index= train_num.index, columns= train_num.columns)"
   ]
  },
  {
   "cell_type": "code",
   "execution_count": 40,
   "metadata": {},
   "outputs": [],
   "source": [
    "#Rescale reduced data\n",
    "train_red_num = train_red.copy().select_dtypes('number')\n",
    "scaled_features_red = scaler.fit_transform(train_red_num)\n",
    "train_red_num_scaled = pd.DataFrame(scaled_features_red, index= train_red_num.index, columns= train_red_num.columns)"
   ]
  },
  {
   "cell_type": "code",
   "execution_count": 30,
   "metadata": {},
   "outputs": [],
   "source": [
    "#Isolate the non-numeric variables\n",
    "train_obj = train.copy().select_dtypes('object', 'datetime')"
   ]
  },
  {
   "cell_type": "code",
   "execution_count": 41,
   "metadata": {},
   "outputs": [],
   "source": [
    "train_red_obj = train_red.copy().select_dtypes('object', 'datetime')"
   ]
  },
  {
   "cell_type": "code",
   "execution_count": 34,
   "metadata": {},
   "outputs": [],
   "source": [
    "# Concatenate \n",
    "train_scaled = pd.concat([train_obj, train_num_scaled],axis = 1)"
   ]
  },
  {
   "cell_type": "code",
   "execution_count": 35,
   "metadata": {},
   "outputs": [
    {
     "data": {
      "text/html": [
       "<div>\n",
       "<style scoped>\n",
       "    .dataframe tbody tr th:only-of-type {\n",
       "        vertical-align: middle;\n",
       "    }\n",
       "\n",
       "    .dataframe tbody tr th {\n",
       "        vertical-align: top;\n",
       "    }\n",
       "\n",
       "    .dataframe thead th {\n",
       "        text-align: right;\n",
       "    }\n",
       "</style>\n",
       "<table border=\"1\" class=\"dataframe\">\n",
       "  <thead>\n",
       "    <tr style=\"text-align: right;\">\n",
       "      <th></th>\n",
       "      <th>user_id</th>\n",
       "      <th>review</th>\n",
       "      <th>book_id</th>\n",
       "      <th>review_id</th>\n",
       "      <th>genres</th>\n",
       "      <th>title</th>\n",
       "      <th>description</th>\n",
       "      <th>genre</th>\n",
       "      <th>sentence_labels</th>\n",
       "      <th>review_texts</th>\n",
       "      <th>raw_text</th>\n",
       "      <th>time</th>\n",
       "      <th>rating</th>\n",
       "      <th>publication_year</th>\n",
       "      <th>publication_month</th>\n",
       "      <th>publication_day</th>\n",
       "      <th>average_rating</th>\n",
       "      <th>ratings_count</th>\n",
       "      <th>num_pages</th>\n",
       "      <th>weighted_avg_rating</th>\n",
       "      <th>spoiler_dum</th>\n",
       "      <th>review_len</th>\n",
       "    </tr>\n",
       "  </thead>\n",
       "  <tbody>\n",
       "    <tr>\n",
       "      <th>0</th>\n",
       "      <td>c2a49914f29862c29bba7507d6f674bb</td>\n",
       "      <td>[[0, The plot is good, the characters are good...</td>\n",
       "      <td>12497</td>\n",
       "      <td>3607653ec78471cccf495bd160cdef0c</td>\n",
       "      <td>{'fiction': 1653, 'mystery, thriller, crime': ...</td>\n",
       "      <td>No Country for Old Men</td>\n",
       "      <td>In his blistering new novel, Cormac McCarthy r...</td>\n",
       "      <td>fiction</td>\n",
       "      <td>[0, 0, 0, 0]</td>\n",
       "      <td>['The plot is good, the characters are good, t...</td>\n",
       "      <td>The plot is good the characters are good the s...</td>\n",
       "      <td>0.6979427997992977</td>\n",
       "      <td>0.6000000000000001</td>\n",
       "      <td>0.9599614085865895</td>\n",
       "      <td>0.5454545454545454</td>\n",
       "      <td>0.3333333333333333</td>\n",
       "      <td>0.7481751824817516</td>\n",
       "      <td>0.020884507345792242</td>\n",
       "      <td>0.04625748502994012</td>\n",
       "      <td>0.019874159211150468</td>\n",
       "      <td>0.0</td>\n",
       "      <td>0.02061855670103093</td>\n",
       "    </tr>\n",
       "    <tr>\n",
       "      <th>1</th>\n",
       "      <td>a6c7ea6d7767c2e04a6b7856aaabbdf2</td>\n",
       "      <td>[[0, This book is difficult to define.], [0, (...</td>\n",
       "      <td>9279177</td>\n",
       "      <td>4de61f79cf93354d1bc3c47d362e9ca3</td>\n",
       "      <td>{'romance': 769, 'fiction': 1075, 'young-adult...</td>\n",
       "      <td>The Lover's Dictionary</td>\n",
       "      <td>basis, n.\\nThere has to be a moment at the beg...</td>\n",
       "      <td>fiction</td>\n",
       "      <td>[0, 0, 0, 0, 0]</td>\n",
       "      <td>['This book is difficult to define.', \"(And if...</td>\n",
       "      <td>This book is difficult to define \"And if I wer...</td>\n",
       "      <td>0.46688409433015554</td>\n",
       "      <td>1.0</td>\n",
       "      <td>0.9623733719247467</td>\n",
       "      <td>0.0</td>\n",
       "      <td>0.1</td>\n",
       "      <td>0.6605839416058393</td>\n",
       "      <td>0.0071890558838583595</td>\n",
       "      <td>0.03158682634730539</td>\n",
       "      <td>0.006443652488203286</td>\n",
       "      <td>0.0</td>\n",
       "      <td>0.024627720504009167</td>\n",
       "    </tr>\n",
       "    <tr>\n",
       "      <th>2</th>\n",
       "      <td>9c9815246338d161800d44b8a6f84f5b</td>\n",
       "      <td>[[0, Still one of my favourite fantasyseries o...</td>\n",
       "      <td>45107</td>\n",
       "      <td>d5a535c176579e2a00b9819a46482306</td>\n",
       "      <td>{'fantasy, paranormal': 2098, 'fiction': 310}</td>\n",
       "      <td>Assassin's Apprentice (Farseer Trilogy, #1)</td>\n",
       "      <td>In a faraway land where members of the royal f...</td>\n",
       "      <td>fantasy, paranormal</td>\n",
       "      <td>[0]</td>\n",
       "      <td>['Still one of my favourite fantasyseries of a...</td>\n",
       "      <td>Still one of my favourite fantasyseries of all...</td>\n",
       "      <td>0.9831911690918216</td>\n",
       "      <td>1.0</td>\n",
       "      <td>0.9551374819102749</td>\n",
       "      <td>0.1818181818181818</td>\n",
       "      <td>nan</td>\n",
       "      <td>0.7518248175182479</td>\n",
       "      <td>0.027188451795814975</td>\n",
       "      <td>0.0688622754491018</td>\n",
       "      <td>0.025935726058369187</td>\n",
       "      <td>0.0</td>\n",
       "      <td>0.002290950744558992</td>\n",
       "    </tr>\n",
       "    <tr>\n",
       "      <th>3</th>\n",
       "      <td>fffce7dae5ac5e8fb6288d81658ececc</td>\n",
       "      <td>[[0, DNF at 30 pages.], [0, I seriously debate...</td>\n",
       "      <td>15749186</td>\n",
       "      <td>2593d837196037879e8482342f3d9cf5</td>\n",
       "      <td>{'fiction': 706, 'young-adult': 665, 'romance'...</td>\n",
       "      <td>To All the Boys I've Loved Before (To All the ...</td>\n",
       "      <td>What if all the crushes you ever had found out...</td>\n",
       "      <td>fiction</td>\n",
       "      <td>[0, 0, 0, 0, 0, 0, 0, 0, 0]</td>\n",
       "      <td>['DNF at 30 pages.', 'I seriously debated whet...</td>\n",
       "      <td>DNF at  pages I seriously debated whether or n...</td>\n",
       "      <td>0.8499749121926743</td>\n",
       "      <td>0.2</td>\n",
       "      <td>0.9643029425952725</td>\n",
       "      <td>0.1818181818181818</td>\n",
       "      <td>0.6333333333333333</td>\n",
       "      <td>0.740875912408759</td>\n",
       "      <td>0.029554395271133488</td>\n",
       "      <td>0.0531437125748503</td>\n",
       "      <td>0.02798832208858508</td>\n",
       "      <td>0.0</td>\n",
       "      <td>0.046105383734249716</td>\n",
       "    </tr>\n",
       "    <tr>\n",
       "      <th>4</th>\n",
       "      <td>f8fc32781e4755d75e748bde57bea9a4</td>\n",
       "      <td>[[0, Better than I expected, having read 2 oth...</td>\n",
       "      <td>11850778</td>\n",
       "      <td>efccf02d73be0cd815d025b46df4ed31</td>\n",
       "      <td>{'fiction': 50, 'fantasy, paranormal': 26, 'my...</td>\n",
       "      <td>The Chronological Man: The Monster In The Mist</td>\n",
       "      <td>It's 1890 and the citizens of Boston are begin...</td>\n",
       "      <td>fiction</td>\n",
       "      <td>[0, 0, 0, 0]</td>\n",
       "      <td>['Better than I expected, having read 2 other ...</td>\n",
       "      <td>Better than I expected having read  other book...</td>\n",
       "      <td>0.5075263421976919</td>\n",
       "      <td>0.8</td>\n",
       "      <td>0.9623733719247467</td>\n",
       "      <td>0.4545454545454545</td>\n",
       "      <td>0.4666666666666667</td>\n",
       "      <td>0.6094890510948904</td>\n",
       "      <td>0.0002140839045638852</td>\n",
       "      <td>0.020059880239520957</td>\n",
       "      <td>0.00018487634144454752</td>\n",
       "      <td>0.0</td>\n",
       "      <td>0.005441008018327607</td>\n",
       "    </tr>\n",
       "  </tbody>\n",
       "</table>\n",
       "</div>"
      ],
      "text/plain": [
       "                            user_id  \\\n",
       "0  c2a49914f29862c29bba7507d6f674bb   \n",
       "1  a6c7ea6d7767c2e04a6b7856aaabbdf2   \n",
       "2  9c9815246338d161800d44b8a6f84f5b   \n",
       "3  fffce7dae5ac5e8fb6288d81658ececc   \n",
       "4  f8fc32781e4755d75e748bde57bea9a4   \n",
       "\n",
       "                                              review   book_id  \\\n",
       "0  [[0, The plot is good, the characters are good...     12497   \n",
       "1  [[0, This book is difficult to define.], [0, (...   9279177   \n",
       "2  [[0, Still one of my favourite fantasyseries o...     45107   \n",
       "3  [[0, DNF at 30 pages.], [0, I seriously debate...  15749186   \n",
       "4  [[0, Better than I expected, having read 2 oth...  11850778   \n",
       "\n",
       "                          review_id  \\\n",
       "0  3607653ec78471cccf495bd160cdef0c   \n",
       "1  4de61f79cf93354d1bc3c47d362e9ca3   \n",
       "2  d5a535c176579e2a00b9819a46482306   \n",
       "3  2593d837196037879e8482342f3d9cf5   \n",
       "4  efccf02d73be0cd815d025b46df4ed31   \n",
       "\n",
       "                                              genres  \\\n",
       "0  {'fiction': 1653, 'mystery, thriller, crime': ...   \n",
       "1  {'romance': 769, 'fiction': 1075, 'young-adult...   \n",
       "2      {'fantasy, paranormal': 2098, 'fiction': 310}   \n",
       "3  {'fiction': 706, 'young-adult': 665, 'romance'...   \n",
       "4  {'fiction': 50, 'fantasy, paranormal': 26, 'my...   \n",
       "\n",
       "                                               title  \\\n",
       "0                             No Country for Old Men   \n",
       "1                             The Lover's Dictionary   \n",
       "2        Assassin's Apprentice (Farseer Trilogy, #1)   \n",
       "3  To All the Boys I've Loved Before (To All the ...   \n",
       "4     The Chronological Man: The Monster In The Mist   \n",
       "\n",
       "                                         description                genre  \\\n",
       "0  In his blistering new novel, Cormac McCarthy r...              fiction   \n",
       "1  basis, n.\\nThere has to be a moment at the beg...              fiction   \n",
       "2  In a faraway land where members of the royal f...  fantasy, paranormal   \n",
       "3  What if all the crushes you ever had found out...              fiction   \n",
       "4  It's 1890 and the citizens of Boston are begin...              fiction   \n",
       "\n",
       "               sentence_labels  \\\n",
       "0                 [0, 0, 0, 0]   \n",
       "1              [0, 0, 0, 0, 0]   \n",
       "2                          [0]   \n",
       "3  [0, 0, 0, 0, 0, 0, 0, 0, 0]   \n",
       "4                 [0, 0, 0, 0]   \n",
       "\n",
       "                                        review_texts  \\\n",
       "0  ['The plot is good, the characters are good, t...   \n",
       "1  ['This book is difficult to define.', \"(And if...   \n",
       "2  ['Still one of my favourite fantasyseries of a...   \n",
       "3  ['DNF at 30 pages.', 'I seriously debated whet...   \n",
       "4  ['Better than I expected, having read 2 other ...   \n",
       "\n",
       "                                            raw_text                time  \\\n",
       "0  The plot is good the characters are good the s...  0.6979427997992977   \n",
       "1  This book is difficult to define \"And if I wer... 0.46688409433015554   \n",
       "2  Still one of my favourite fantasyseries of all...  0.9831911690918216   \n",
       "3  DNF at  pages I seriously debated whether or n...  0.8499749121926743   \n",
       "4  Better than I expected having read  other book...  0.5075263421976919   \n",
       "\n",
       "              rating   publication_year  publication_month    publication_day  \\\n",
       "0 0.6000000000000001 0.9599614085865895 0.5454545454545454 0.3333333333333333   \n",
       "1                1.0 0.9623733719247467                0.0                0.1   \n",
       "2                1.0 0.9551374819102749 0.1818181818181818                nan   \n",
       "3                0.2 0.9643029425952725 0.1818181818181818 0.6333333333333333   \n",
       "4                0.8 0.9623733719247467 0.4545454545454545 0.4666666666666667   \n",
       "\n",
       "      average_rating         ratings_count            num_pages  \\\n",
       "0 0.7481751824817516  0.020884507345792242  0.04625748502994012   \n",
       "1 0.6605839416058393 0.0071890558838583595  0.03158682634730539   \n",
       "2 0.7518248175182479  0.027188451795814975   0.0688622754491018   \n",
       "3  0.740875912408759  0.029554395271133488   0.0531437125748503   \n",
       "4 0.6094890510948904 0.0002140839045638852 0.020059880239520957   \n",
       "\n",
       "     weighted_avg_rating  spoiler_dum           review_len  \n",
       "0   0.019874159211150468          0.0  0.02061855670103093  \n",
       "1   0.006443652488203286          0.0 0.024627720504009167  \n",
       "2   0.025935726058369187          0.0 0.002290950744558992  \n",
       "3    0.02798832208858508          0.0 0.046105383734249716  \n",
       "4 0.00018487634144454752          0.0 0.005441008018327607  "
      ]
     },
     "execution_count": 35,
     "metadata": {},
     "output_type": "execute_result"
    }
   ],
   "source": [
    "train_scaled.head()"
   ]
  },
  {
   "cell_type": "code",
   "execution_count": 42,
   "metadata": {},
   "outputs": [],
   "source": [
    "train_red_scaled = pd.concat([train_red_num_scaled, train_red_obj],axis = 1)"
   ]
  },
  {
   "cell_type": "code",
   "execution_count": 43,
   "metadata": {},
   "outputs": [],
   "source": [
    "#Safe the reduced dataframe as json-file\n",
    "train_red_scaled.to_json('data/train_reduced_scaled.json')"
   ]
  },
  {
   "cell_type": "code",
   "execution_count": 36,
   "metadata": {},
   "outputs": [],
   "source": [
    "#Save the not reduced dataframe as json.file\n",
    "train_scaled.to_json('data/train_data_scaled.json')"
   ]
  }
 ],
 "metadata": {
  "kernelspec": {
   "display_name": "Python [conda env:nf] *",
   "language": "python",
   "name": "conda-env-nf-py"
  },
  "language_info": {
   "codemirror_mode": {
    "name": "ipython",
    "version": 3
   },
   "file_extension": ".py",
   "mimetype": "text/x-python",
   "name": "python",
   "nbconvert_exporter": "python",
   "pygments_lexer": "ipython3",
   "version": "3.6.10"
  }
 },
 "nbformat": 4,
 "nbformat_minor": 4
}
