{
 "cells": [
  {
   "cell_type": "markdown",
   "metadata": {},
   "source": [
    "##### Silver Speech and Golden Silence: Spoiler Detection Project##### Spoiler Alert! Spoiler Detection Project"
   ]
  },
  {
   "cell_type": "markdown",
   "metadata": {},
   "source": [
    "### Sentence-wise SGD with Metadata (combined in 1 feature)"
   ]
  },
  {
   "cell_type": "code",
   "execution_count": 18,
   "metadata": {},
   "outputs": [],
   "source": [
    "#Imports\n",
    "import pandas as pd\n",
    "import numpy as np\n",
    "from tqdm import tqdm\n",
    "from imblearn.pipeline import Pipeline\n",
    "from sklearn.feature_extraction.text import TfidfVectorizer, CountVectorizer\n",
    "from sklearn.feature_selection import SelectKBest, chi2\n",
    "from sklearn import model_selection\n",
    "from sklearn.utils import class_weight\n",
    "from sklearn.metrics import classification_report, confusion_matrix\n",
    "from sklearn.linear_model import SGDClassifier"
   ]
  },
  {
   "cell_type": "markdown",
   "metadata": {},
   "source": [
    "#### Load Data"
   ]
  },
  {
   "cell_type": "code",
   "execution_count": 3,
   "metadata": {},
   "outputs": [],
   "source": [
    "train = pd.read_json('/Users/juliaschafer/NF_Capstone_Spoiler_Detection/data/train_reduced.json')\n",
    "train.drop(['user_id', 'title'], inplace = True, axis = 1)\n",
    "#Correct the review_length column\n",
    "train['review_len'] = train['tokenized'].apply(lambda x: len(x))"
   ]
  },
  {
   "cell_type": "code",
   "execution_count": 4,
   "metadata": {},
   "outputs": [],
   "source": [
    "val = pd.read_json('/Users/juliaschafer/NF_Capstone_Spoiler_Detection/data/validation_reduced.json')\n",
    "val.drop(['user_id', 'title'], inplace = True, axis = 1)\n",
    "#Correct the review_length column\n",
    "val['review_len'] = val['tokenized'].apply(lambda x: len(x))"
   ]
  },
  {
   "cell_type": "code",
   "execution_count": 5,
   "metadata": {},
   "outputs": [],
   "source": [
    "#Import reviews as string (not in list)\n",
    "X_tr = pd.read_csv('/Users/juliaschafer/NF_Capstone_Spoiler_Detection/data/X_train.csv')\n",
    "X_v = pd.read_csv('/Users/juliaschafer/NF_Capstone_Spoiler_Detection/data/X_val.csv')\n",
    "X_tr.rename(columns = {\"0\": 'review_whole'}, inplace = True)\n",
    "X_v.rename(columns = {\"0\": 'review_whole'}, inplace = True)"
   ]
  },
  {
   "cell_type": "code",
   "execution_count": 6,
   "metadata": {},
   "outputs": [],
   "source": [
    "#Combine data \n",
    "train = pd.concat([train, X_tr.review_whole], axis = 1)\n",
    "val = pd.concat([val, X_v.review_whole], axis = 1)"
   ]
  },
  {
   "cell_type": "code",
   "execution_count": 8,
   "metadata": {},
   "outputs": [],
   "source": [
    "train.to_json('/Users/juliaschafer/NF_Capstone_Spoiler_Detection/data/train_only_needed_columns.json')\n",
    "val.to_json('/Users/juliaschafer/NF_Capstone_Spoiler_Detection/data/val_only_needed_columns.json')"
   ]
  },
  {
   "cell_type": "code",
   "execution_count": 9,
   "metadata": {},
   "outputs": [],
   "source": [
    "#Since the data is very inbalanced, we only take the training reviews containing spoiler sentences. \n",
    "train = train[train['spoiler_dum']== 1]"
   ]
  },
  {
   "cell_type": "code",
   "execution_count": 10,
   "metadata": {},
   "outputs": [],
   "source": [
    "train.reset_index(inplace = True, drop = True)"
   ]
  },
  {
   "cell_type": "code",
   "execution_count": 11,
   "metadata": {},
   "outputs": [],
   "source": [
    "#Function to split the reviews into single sentences\n",
    "def get_sentencewise_df(df):\n",
    "    \n",
    "    '''Get review sentences with according label, genre, review length from a dataframe df given in.\n",
    "    The review sentences are written in a list 'lst' which is then transformed\n",
    "    into a numpy array'''\n",
    "    \n",
    "    sen_lst = []\n",
    "    genre_lst = []\n",
    "    len_lst = []\n",
    "    label_lst = []\n",
    "    for i in range(len(df)):\n",
    "        for sentence in df['tokenized'][i]:\n",
    "            sen_lst.append(sentence)\n",
    "            genre_lst.append(df['genre'][i])\n",
    "            len_lst.append(df['review_len'][i])\n",
    "            \n",
    "    for labellist in df['sentence_labels']:\n",
    "        for label in labellist:\n",
    "            label_lst.append(label)\n",
    "    df = pd.concat([pd.Series(sen_lst), pd.Series(label_lst), pd.Series(genre_lst), pd.Series(len_lst)], axis = 1)\n",
    "    return df"
   ]
  },
  {
   "cell_type": "code",
   "execution_count": 12,
   "metadata": {},
   "outputs": [
    {
     "data": {
      "text/html": [
       "<div>\n",
       "<style scoped>\n",
       "    .dataframe tbody tr th:only-of-type {\n",
       "        vertical-align: middle;\n",
       "    }\n",
       "\n",
       "    .dataframe tbody tr th {\n",
       "        vertical-align: top;\n",
       "    }\n",
       "\n",
       "    .dataframe thead th {\n",
       "        text-align: right;\n",
       "    }\n",
       "</style>\n",
       "<table border=\"1\" class=\"dataframe\">\n",
       "  <thead>\n",
       "    <tr style=\"text-align: right;\">\n",
       "      <th></th>\n",
       "      <th>sentence</th>\n",
       "      <th>spoiler_dum</th>\n",
       "      <th>genre</th>\n",
       "      <th>review_length</th>\n",
       "    </tr>\n",
       "  </thead>\n",
       "  <tbody>\n",
       "    <tr>\n",
       "      <th>0</th>\n",
       "      <td>overall plot book get star maybe</td>\n",
       "      <td>0</td>\n",
       "      <td>fantasy, paranormal</td>\n",
       "      <td>11</td>\n",
       "    </tr>\n",
       "    <tr>\n",
       "      <th>1</th>\n",
       "      <td>bad trilogy end</td>\n",
       "      <td>0</td>\n",
       "      <td>fantasy, paranormal</td>\n",
       "      <td>11</td>\n",
       "    </tr>\n",
       "    <tr>\n",
       "      <th>2</th>\n",
       "      <td>feeling chase character aside basically feelin...</td>\n",
       "      <td>1</td>\n",
       "      <td>fantasy, paranormal</td>\n",
       "      <td>11</td>\n",
       "    </tr>\n",
       "    <tr>\n",
       "      <th>3</th>\n",
       "      <td>unacceptable</td>\n",
       "      <td>1</td>\n",
       "      <td>fantasy, paranormal</td>\n",
       "      <td>11</td>\n",
       "    </tr>\n",
       "    <tr>\n",
       "      <th>4</th>\n",
       "      <td>give book star go able read case later book se...</td>\n",
       "      <td>0</td>\n",
       "      <td>fantasy, paranormal</td>\n",
       "      <td>11</td>\n",
       "    </tr>\n",
       "  </tbody>\n",
       "</table>\n",
       "</div>"
      ],
      "text/plain": [
       "                                            sentence  spoiler_dum  \\\n",
       "0                   overall plot book get star maybe            0   \n",
       "1                                    bad trilogy end            0   \n",
       "2  feeling chase character aside basically feelin...            1   \n",
       "3                                       unacceptable            1   \n",
       "4  give book star go able read case later book se...            0   \n",
       "\n",
       "                 genre  review_length  \n",
       "0  fantasy, paranormal             11  \n",
       "1  fantasy, paranormal             11  \n",
       "2  fantasy, paranormal             11  \n",
       "3  fantasy, paranormal             11  \n",
       "4  fantasy, paranormal             11  "
      ]
     },
     "execution_count": 12,
     "metadata": {},
     "output_type": "execute_result"
    }
   ],
   "source": [
    "#Train data sentence-wise\n",
    "train = get_sentencewise_df(train)\n",
    "train.rename(columns = {0: 'sentence', 1: 'spoiler_dum', 2: 'genre', 3: 'review_length'}, inplace = True)\n",
    "train.head()"
   ]
  },
  {
   "cell_type": "code",
   "execution_count": 13,
   "metadata": {},
   "outputs": [
    {
     "data": {
      "text/html": [
       "<div>\n",
       "<style scoped>\n",
       "    .dataframe tbody tr th:only-of-type {\n",
       "        vertical-align: middle;\n",
       "    }\n",
       "\n",
       "    .dataframe tbody tr th {\n",
       "        vertical-align: top;\n",
       "    }\n",
       "\n",
       "    .dataframe thead th {\n",
       "        text-align: right;\n",
       "    }\n",
       "</style>\n",
       "<table border=\"1\" class=\"dataframe\">\n",
       "  <thead>\n",
       "    <tr style=\"text-align: right;\">\n",
       "      <th></th>\n",
       "      <th>sentence</th>\n",
       "      <th>spoiler_dum</th>\n",
       "      <th>genre</th>\n",
       "      <th>review_length</th>\n",
       "    </tr>\n",
       "  </thead>\n",
       "  <tbody>\n",
       "    <tr>\n",
       "      <th>0</th>\n",
       "      <td>look like promising new fantasy series</td>\n",
       "      <td>0</td>\n",
       "      <td>fantasy, paranormal</td>\n",
       "      <td>3</td>\n",
       "    </tr>\n",
       "    <tr>\n",
       "      <th>1</th>\n",
       "      <td>love character definitely omg moment read</td>\n",
       "      <td>0</td>\n",
       "      <td>fantasy, paranormal</td>\n",
       "      <td>3</td>\n",
       "    </tr>\n",
       "    <tr>\n",
       "      <th>2</th>\n",
       "      <td>negative wish term mythology explain little well</td>\n",
       "      <td>0</td>\n",
       "      <td>fantasy, paranormal</td>\n",
       "      <td>3</td>\n",
       "    </tr>\n",
       "    <tr>\n",
       "      <th>3</th>\n",
       "      <td>definitely remind inuyasha read</td>\n",
       "      <td>0</td>\n",
       "      <td>fantasy, paranormal</td>\n",
       "      <td>7</td>\n",
       "    </tr>\n",
       "    <tr>\n",
       "      <th>4</th>\n",
       "      <td>blend humour romance delightful</td>\n",
       "      <td>0</td>\n",
       "      <td>fantasy, paranormal</td>\n",
       "      <td>7</td>\n",
       "    </tr>\n",
       "  </tbody>\n",
       "</table>\n",
       "</div>"
      ],
      "text/plain": [
       "                                           sentence  spoiler_dum  \\\n",
       "0            look like promising new fantasy series            0   \n",
       "1         love character definitely omg moment read            0   \n",
       "2  negative wish term mythology explain little well            0   \n",
       "3                   definitely remind inuyasha read            0   \n",
       "4                   blend humour romance delightful            0   \n",
       "\n",
       "                 genre  review_length  \n",
       "0  fantasy, paranormal              3  \n",
       "1  fantasy, paranormal              3  \n",
       "2  fantasy, paranormal              3  \n",
       "3  fantasy, paranormal              7  \n",
       "4  fantasy, paranormal              7  "
      ]
     },
     "execution_count": 13,
     "metadata": {},
     "output_type": "execute_result"
    }
   ],
   "source": [
    "#Validation data sentence-wise\n",
    "val = get_sentencewise_df(val)\n",
    "val.rename(columns = {0: 'sentence', 1: 'spoiler_dum', 2: 'genre', 3: 'review_length'}, inplace = True)\n",
    "val.head()"
   ]
  },
  {
   "cell_type": "code",
   "execution_count": 14,
   "metadata": {},
   "outputs": [],
   "source": [
    "#New column with genre and review text\n",
    "train[['text_and_genre']] = train.genre + ' ' + train.sentence\n",
    "val[['text_and_genre']] = val.genre + ' ' + val.sentence"
   ]
  },
  {
   "cell_type": "code",
   "execution_count": 15,
   "metadata": {},
   "outputs": [],
   "source": [
    "X_train = train[['sentence', 'genre', 'review_length']]\n",
    "X_train_rev = train.text_and_genre\n",
    "y_train = train.spoiler_dum"
   ]
  },
  {
   "cell_type": "code",
   "execution_count": 16,
   "metadata": {},
   "outputs": [],
   "source": [
    "X_val = val[['sentence', 'genre', 'review_length']]\n",
    "X_val_rev = val.text_and_genre\n",
    "y_val = val.spoiler_dum"
   ]
  },
  {
   "cell_type": "markdown",
   "metadata": {},
   "source": [
    "#### Balanced Random Forest "
   ]
  },
  {
   "cell_type": "code",
   "execution_count": 19,
   "metadata": {},
   "outputs": [],
   "source": [
    "#Build a pipeline for feature extraction with TF IDF and SGD\n",
    "#CountVectorizer\n",
    "vectorizer = CountVectorizer(stop_words = 'english', ngram_range = (1,2), min_df = 100)\n",
    "\n",
    "#Feature Selection: K-Best\n",
    "feat = SelectKBest(score_func = chi2, k = 5000)\n",
    "\n",
    "#Balanced Random Forest classifier\n",
    "sgd = SGDClassifier(random_state = 42, penalty = 'elasticnet', alpha = .001, class_weight = {0: 0.3, 1: 0.7}, \n",
    "                    l1_ratio = 0, max_iter = 1000, loss = 'perceptron', shuffle = True, n_jobs = -1)\n",
    "\n",
    "pipe = Pipeline([('count', vectorizer),('select_kbest', feat), ('SGD', sgd)])"
   ]
  },
  {
   "cell_type": "code",
   "execution_count": 20,
   "metadata": {},
   "outputs": [],
   "source": [
    "#Function for model training and prediction\n",
    "def run_model(pipeline, X_train, y_train, X_test, y_test):\n",
    "    #Fit the model\n",
    "    model = pipeline.fit(X_train, y_train)\n",
    "    \n",
    "    #Predict labels of test data\n",
    "    y_pred = model.predict(X_test)\n",
    "    \n",
    "    #Print classification report and confusion matrix\n",
    "    return print(classification_report(y_test, y_pred)), print(confusion_matrix(y_test, y_pred, normalize = 'true'))\n",
    "    return y_pred"
   ]
  },
  {
   "cell_type": "code",
   "execution_count": 21,
   "metadata": {},
   "outputs": [
    {
     "name": "stdout",
     "output_type": "stream",
     "text": [
      "              precision    recall  f1-score   support\n",
      "\n",
      "           0       0.98      0.52      0.68   3396530\n",
      "           1       0.05      0.72      0.09    113966\n",
      "\n",
      "    accuracy                           0.52   3510496\n",
      "   macro avg       0.51      0.62      0.38   3510496\n",
      "weighted avg       0.95      0.52      0.66   3510496\n",
      "\n",
      "[[0.51532122 0.48467878]\n",
      " [0.27738975 0.72261025]]\n"
     ]
    },
    {
     "data": {
      "text/plain": [
       "(None, None)"
      ]
     },
     "execution_count": 21,
     "metadata": {},
     "output_type": "execute_result"
    }
   ],
   "source": [
    "#Run the model sentence-wise (validation data)\n",
    "run_model(pipe, X_train_rev, y_train, X_val_rev, y_val)"
   ]
  }
 ],
 "metadata": {
  "kernelspec": {
   "display_name": "Python 3",
   "language": "python",
   "name": "python3"
  },
  "language_info": {
   "codemirror_mode": {
    "name": "ipython",
    "version": 3
   },
   "file_extension": ".py",
   "mimetype": "text/x-python",
   "name": "python",
   "nbconvert_exporter": "python",
   "pygments_lexer": "ipython3",
   "version": "3.6.10"
  }
 },
 "nbformat": 4,
 "nbformat_minor": 4
}
