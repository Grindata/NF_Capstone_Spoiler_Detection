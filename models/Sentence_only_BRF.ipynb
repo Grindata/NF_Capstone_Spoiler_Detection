{
 "cells": [
  {
   "cell_type": "markdown",
   "metadata": {},
   "source": [
    "##### Spoiler Alert! Spoiler Detection Project"
   ]
  },
  {
   "cell_type": "markdown",
   "metadata": {},
   "source": [
    "## Combine text and metadata (Sentence-wise, balanced RF Classifier)"
   ]
  },
  {
   "cell_type": "code",
   "execution_count": 1,
   "metadata": {},
   "outputs": [],
   "source": [
    "#Imports\n",
    "import pandas as pd\n",
    "import numpy as np\n",
    "from tqdm import tqdm\n",
    "from sklearn.metrics import classification_report, confusion_matrix\n",
    "from imblearn.pipeline import Pipeline\n",
    "from sklearn.feature_extraction.text import TfidfVectorizer, CountVectorizer\n",
    "from sklearn.feature_selection import SelectKBest, chi2\n",
    "from sklearn.utils import class_weighter\n",
    "from imblearn.ensemble import BalancedRandomForestClassifier"
   ]
  },
  {
   "cell_type": "markdown",
   "metadata": {},
   "source": [
    "#### Load Data"
   ]
  },
  {
   "cell_type": "code",
   "execution_count": 2,
   "metadata": {},
   "outputs": [],
   "source": [
    "train = pd.read_json('data/train_reduced.json')\n",
    "train.drop(['user_id', 'title'], inplace = True, axis = 1)\n",
    "#Correct the review_length column\n",
    "train['review_len'] = train['tokenized'].apply(lambda x: len(x))"
   ]
  },
  {
   "cell_type": "code",
   "execution_count": 3,
   "metadata": {},
   "outputs": [],
   "source": [
    "val = pd.read_json('data/validation_reduced.json')\n",
    "val.drop(['user_id', 'title'], inplace = True, axis = 1)\n",
    "#Correct the review_length column\n",
    "val['review_len'] = val['tokenized'].apply(lambda x: len(x))"
   ]
  },
  {
   "cell_type": "code",
   "execution_count": 4,
   "metadata": {},
   "outputs": [],
   "source": [
    "X_tr = pd.read_csv('data/X_train.csv')\n",
    "X_v = pd.read_csv('data/X_val.csv')\n",
    "X_tr.rename(columns = {\"0\": 'review_whole'}, inplace = True)\n",
    "X_v.rename(columns = {\"0\": 'review_whole'}, inplace = True)"
   ]
  },
  {
   "cell_type": "code",
   "execution_count": 5,
   "metadata": {},
   "outputs": [],
   "source": [
    "train = pd.concat([train, X_tr.review_whole], axis = 1)\n",
    "val = pd.concat([val, X_v.review_whole], axis = 1)"
   ]
  },
  {
   "cell_type": "code",
   "execution_count": 6,
   "metadata": {},
   "outputs": [],
   "source": [
    "train.to_json('data/train_only_needed_columns.json')\n",
    "val.to_json('data/val_only_needed_columns.json')"
   ]
  },
  {
   "cell_type": "code",
   "execution_count": 7,
   "metadata": {},
   "outputs": [],
   "source": [
    "#Since the data is very inbalanced, we only take the training reviews containing spoiler sentences. \n",
    "train = train[train['spoiler_dum']== 1]"
   ]
  },
  {
   "cell_type": "code",
   "execution_count": 9,
   "metadata": {},
   "outputs": [],
   "source": [
    "train.reset_index(inplace = True, drop = True)"
   ]
  },
  {
   "cell_type": "code",
   "execution_count": 12,
   "metadata": {},
   "outputs": [],
   "source": [
    "def get_sentencewise_df(df):\n",
    "    \n",
    "    '''Get review sentences from a dataframe df given in.\n",
    "    The review sentences are written in a list 'lst' which is then transformed\n",
    "    into a numpy array'''\n",
    "    \n",
    "    sen_lst = []\n",
    "    genre_lst = []\n",
    "    len_lst = []\n",
    "    label_lst = []\n",
    "    for i in range(len(df)):\n",
    "        for sentence in df['tokenized'][i]:\n",
    "            sen_lst.append(sentence)\n",
    "            genre_lst.append(df['genre'][i])\n",
    "            len_lst.append(df['review_len'][i])\n",
    "            \n",
    "    for labellist in df['sentence_labels']:\n",
    "        for label in labellist:\n",
    "            label_lst.append(label)\n",
    "    df = pd.concat([pd.Series(sen_lst), pd.Series(label_lst), pd.Series(genre_lst), pd.Series(len_lst)], axis = 1)\n",
    "    return df"
   ]
  },
  {
   "cell_type": "code",
   "execution_count": 13,
   "metadata": {},
   "outputs": [
    {
     "data": {
      "text/html": [
       "<div>\n",
       "<style scoped>\n",
       "    .dataframe tbody tr th:only-of-type {\n",
       "        vertical-align: middle;\n",
       "    }\n",
       "\n",
       "    .dataframe tbody tr th {\n",
       "        vertical-align: top;\n",
       "    }\n",
       "\n",
       "    .dataframe thead th {\n",
       "        text-align: right;\n",
       "    }\n",
       "</style>\n",
       "<table border=\"1\" class=\"dataframe\">\n",
       "  <thead>\n",
       "    <tr style=\"text-align: right;\">\n",
       "      <th></th>\n",
       "      <th>sentence</th>\n",
       "      <th>spoiler_dum</th>\n",
       "      <th>genre</th>\n",
       "      <th>review_length</th>\n",
       "    </tr>\n",
       "  </thead>\n",
       "  <tbody>\n",
       "    <tr>\n",
       "      <th>0</th>\n",
       "      <td>overall plot book get star maybe</td>\n",
       "      <td>0</td>\n",
       "      <td>fantasy, paranormal</td>\n",
       "      <td>11</td>\n",
       "    </tr>\n",
       "    <tr>\n",
       "      <th>1</th>\n",
       "      <td>bad trilogy end</td>\n",
       "      <td>0</td>\n",
       "      <td>fantasy, paranormal</td>\n",
       "      <td>11</td>\n",
       "    </tr>\n",
       "    <tr>\n",
       "      <th>2</th>\n",
       "      <td>feeling chase character aside basically feelin...</td>\n",
       "      <td>1</td>\n",
       "      <td>fantasy, paranormal</td>\n",
       "      <td>11</td>\n",
       "    </tr>\n",
       "    <tr>\n",
       "      <th>3</th>\n",
       "      <td>unacceptable</td>\n",
       "      <td>1</td>\n",
       "      <td>fantasy, paranormal</td>\n",
       "      <td>11</td>\n",
       "    </tr>\n",
       "    <tr>\n",
       "      <th>4</th>\n",
       "      <td>give book star go able read case later book se...</td>\n",
       "      <td>0</td>\n",
       "      <td>fantasy, paranormal</td>\n",
       "      <td>11</td>\n",
       "    </tr>\n",
       "  </tbody>\n",
       "</table>\n",
       "</div>"
      ],
      "text/plain": [
       "                                            sentence  spoiler_dum  \\\n",
       "0                   overall plot book get star maybe            0   \n",
       "1                                    bad trilogy end            0   \n",
       "2  feeling chase character aside basically feelin...            1   \n",
       "3                                       unacceptable            1   \n",
       "4  give book star go able read case later book se...            0   \n",
       "\n",
       "                 genre  review_length  \n",
       "0  fantasy, paranormal             11  \n",
       "1  fantasy, paranormal             11  \n",
       "2  fantasy, paranormal             11  \n",
       "3  fantasy, paranormal             11  \n",
       "4  fantasy, paranormal             11  "
      ]
     },
     "execution_count": 13,
     "metadata": {},
     "output_type": "execute_result"
    }
   ],
   "source": [
    "train = get_sentencewise_df(train)\n",
    "train.rename(columns = {0: 'sentence', 1: 'spoiler_dum', 2: 'genre', 3: 'review_length'}, inplace = True)\n",
    "train.head()"
   ]
  },
  {
   "cell_type": "code",
   "execution_count": 14,
   "metadata": {},
   "outputs": [
    {
     "data": {
      "text/html": [
       "<div>\n",
       "<style scoped>\n",
       "    .dataframe tbody tr th:only-of-type {\n",
       "        vertical-align: middle;\n",
       "    }\n",
       "\n",
       "    .dataframe tbody tr th {\n",
       "        vertical-align: top;\n",
       "    }\n",
       "\n",
       "    .dataframe thead th {\n",
       "        text-align: right;\n",
       "    }\n",
       "</style>\n",
       "<table border=\"1\" class=\"dataframe\">\n",
       "  <thead>\n",
       "    <tr style=\"text-align: right;\">\n",
       "      <th></th>\n",
       "      <th>sentence</th>\n",
       "      <th>spoiler_dum</th>\n",
       "      <th>genre</th>\n",
       "      <th>review_length</th>\n",
       "    </tr>\n",
       "  </thead>\n",
       "  <tbody>\n",
       "    <tr>\n",
       "      <th>0</th>\n",
       "      <td>look like promising new fantasy series</td>\n",
       "      <td>0</td>\n",
       "      <td>fantasy, paranormal</td>\n",
       "      <td>3</td>\n",
       "    </tr>\n",
       "    <tr>\n",
       "      <th>1</th>\n",
       "      <td>love character definitely omg moment read</td>\n",
       "      <td>0</td>\n",
       "      <td>fantasy, paranormal</td>\n",
       "      <td>3</td>\n",
       "    </tr>\n",
       "    <tr>\n",
       "      <th>2</th>\n",
       "      <td>negative wish term mythology explain little well</td>\n",
       "      <td>0</td>\n",
       "      <td>fantasy, paranormal</td>\n",
       "      <td>3</td>\n",
       "    </tr>\n",
       "    <tr>\n",
       "      <th>3</th>\n",
       "      <td>definitely remind inuyasha read</td>\n",
       "      <td>0</td>\n",
       "      <td>fantasy, paranormal</td>\n",
       "      <td>7</td>\n",
       "    </tr>\n",
       "    <tr>\n",
       "      <th>4</th>\n",
       "      <td>blend humour romance delightful</td>\n",
       "      <td>0</td>\n",
       "      <td>fantasy, paranormal</td>\n",
       "      <td>7</td>\n",
       "    </tr>\n",
       "  </tbody>\n",
       "</table>\n",
       "</div>"
      ],
      "text/plain": [
       "                                           sentence  spoiler_dum  \\\n",
       "0            look like promising new fantasy series            0   \n",
       "1         love character definitely omg moment read            0   \n",
       "2  negative wish term mythology explain little well            0   \n",
       "3                   definitely remind inuyasha read            0   \n",
       "4                   blend humour romance delightful            0   \n",
       "\n",
       "                 genre  review_length  \n",
       "0  fantasy, paranormal              3  \n",
       "1  fantasy, paranormal              3  \n",
       "2  fantasy, paranormal              3  \n",
       "3  fantasy, paranormal              7  \n",
       "4  fantasy, paranormal              7  "
      ]
     },
     "execution_count": 14,
     "metadata": {},
     "output_type": "execute_result"
    }
   ],
   "source": [
    "val = get_sentencewise_df(val)\n",
    "val.rename(columns = {0: 'sentence', 1: 'spoiler_dum', 2: 'genre', 3: 'review_length'}, inplace = True)\n",
    "val.head()"
   ]
  },
  {
   "cell_type": "code",
   "execution_count": 15,
   "metadata": {},
   "outputs": [],
   "source": [
    "X_train = train[['sentence', 'genre', 'review_length']]\n",
    "X_train_rev = train.sentence\n",
    "y_train = train.spoiler_dum"
   ]
  },
  {
   "cell_type": "code",
   "execution_count": 16,
   "metadata": {},
   "outputs": [],
   "source": [
    "X_val = val[['sentence', 'genre', 'review_length']]\n",
    "X_val_rev = val.sentence\n",
    "y_val = val.spoiler_dum"
   ]
  },
  {
   "cell_type": "markdown",
   "metadata": {},
   "source": [
    "#### Balanced Random Forest"
   ]
  },
  {
   "cell_type": "code",
   "execution_count": 21,
   "metadata": {},
   "outputs": [],
   "source": [
    "#Build a pipeline for feature extraction with TF IDF and SGD\n",
    "#TFIDF\n",
    "tfidf = TfidfVectorizer(stop_words = 'english', ngram_range = (1,1), min_df = 100)\n",
    "\n",
    "#Feature Selection: K-Best\n",
    "feat = SelectKBest(score_func = chi2, k = 5000)\n",
    "\n",
    "#Balanced Random Forest classifier\n",
    "brf = BalancedRandomForestClassifier(n_estimators = 100, random_state = 42, verbose = 5, n_jobs = -1, class_weight = 'balanced', oob_score = True)\n",
    "\n",
    "pipe = Pipeline([('TFIDF', tfidf),('select_kbest', feat), ('BRF', brf)])"
   ]
  },
  {
   "cell_type": "code",
   "execution_count": 22,
   "metadata": {},
   "outputs": [],
   "source": [
    "#Function for model training and prediction\n",
    "def run_model(pipeline, X_train, y_train, X_test, y_test):\n",
    "    #Fit the model\n",
    "    model = pipeline.fit(X_train, y_train)\n",
    "    \n",
    "    #Predict labels of test data\n",
    "    y_pred = model.predict(X_test)\n",
    "    \n",
    "    #Print classification report and confusion matrix\n",
    "    return print(classification_report(y_test, y_pred)), print(confusion_matrix(y_test, y_pred, normalize = 'true'))\n",
    "    return y_pred"
   ]
  },
  {
   "cell_type": "code",
   "execution_count": 23,
   "metadata": {},
   "outputs": [
    {
     "name": "stderr",
     "output_type": "stream",
     "text": [
      "[Parallel(n_jobs=-1)]: Using backend ThreadingBackend with 4 concurrent workers.\n"
     ]
    },
    {
     "name": "stdout",
     "output_type": "stream",
     "text": [
      "building tree 1 of 100\n",
      "building tree 3 of 100\n",
      "building tree 2 of 100\n",
      "building tree 4 of 100\n",
      "building tree 5 of 100\n",
      "building tree 6 of 100\n",
      "building tree 7 of 100\n",
      "building tree 8 of 100\n",
      "building tree 9 of 100\n",
      "building tree 10 of 100\n",
      "building tree 11 of 100\n",
      "building tree 12 of 100\n",
      "building tree 13 of 100\n"
     ]
    },
    {
     "name": "stderr",
     "output_type": "stream",
     "text": [
      "[Parallel(n_jobs=-1)]: Done  10 tasks      | elapsed: 20.2min\n"
     ]
    },
    {
     "name": "stdout",
     "output_type": "stream",
     "text": [
      "building tree 14 of 100\n",
      "building tree 15 of 100\n",
      "building tree 16 of 100\n",
      "building tree 17 of 100\n",
      "building tree 18 of 100\n",
      "building tree 19 of 100\n",
      "building tree 20 of 100\n",
      "building tree 21 of 100\n",
      "building tree 22 of 100\n",
      "building tree 23 of 100\n",
      "building tree 24 of 100\n",
      "building tree 25 of 100\n",
      "building tree 26 of 100\n",
      "building tree 27 of 100\n",
      "building tree 28 of 100\n",
      "building tree 29 of 100\n",
      "building tree 30 of 100\n",
      "building tree 31 of 100\n",
      "building tree 32 of 100\n",
      "building tree 33 of 100\n",
      "building tree 34 of 100\n",
      "building tree 35 of 100\n",
      "building tree 36 of 100\n",
      "building tree 37 of 100\n",
      "building tree 38 of 100\n",
      "building tree 39 of 100\n",
      "building tree 40 of 100\n",
      "building tree 41 of 100\n",
      "building tree 42 of 100\n",
      "building tree 43 of 100\n",
      "building tree 44 of 100\n",
      "building tree 45 of 100\n",
      "building tree 46 of 100\n",
      "building tree 47 of 100\n",
      "building tree 48 of 100\n",
      "building tree 49 of 100\n",
      "building tree 50 of 100\n",
      "building tree 51 of 100\n",
      "building tree 52 of 100\n",
      "building tree 53 of 100\n",
      "building tree 54 of 100\n",
      "building tree 55 of 100\n",
      "building tree 56 of 100\n",
      "building tree 57 of 100\n",
      "building tree 58 of 100\n",
      "building tree 59 of 100\n",
      "building tree 60 of 100\n",
      "building tree 61 of 100\n",
      "building tree 62 of 100\n",
      "building tree 63 of 100\n",
      "building tree 64 of 100\n",
      "building tree 65 of 100\n",
      "building tree 66 of 100\n",
      "building tree 67 of 100\n"
     ]
    },
    {
     "name": "stderr",
     "output_type": "stream",
     "text": [
      "[Parallel(n_jobs=-1)]: Done  64 tasks      | elapsed: 106.8min\n"
     ]
    },
    {
     "name": "stdout",
     "output_type": "stream",
     "text": [
      "building tree 68 of 100\n",
      "building tree 69 of 100\n",
      "building tree 70 of 100\n",
      "building tree 71 of 100\n",
      "building tree 72 of 100\n",
      "building tree 73 of 100\n",
      "building tree 74 of 100\n",
      "building tree 75 of 100\n",
      "building tree 76 of 100\n",
      "building tree 77 of 100\n",
      "building tree 78 of 100\n",
      "building tree 79 of 100\n",
      "building tree 80 of 100\n",
      "building tree 81 of 100\n",
      "building tree 82 of 100\n",
      "building tree 83 of 100\n",
      "building tree 84 of 100\n",
      "building tree 85 of 100\n",
      "building tree 86 of 100\n",
      "building tree 87 of 100\n",
      "building tree 88 of 100\n",
      "building tree 89 of 100\n",
      "building tree 90 of 100\n",
      "building tree 91 of 100\n",
      "building tree 92 of 100\n",
      "building tree 93 of 100\n",
      "building tree 94 of 100\n",
      "building tree 95 of 100\n",
      "building tree 96 of 100\n",
      "building tree 97 of 100\n",
      "building tree 98 of 100\n",
      "building tree 99 of 100\n",
      "building tree 100 of 100\n"
     ]
    },
    {
     "name": "stderr",
     "output_type": "stream",
     "text": [
      "[Parallel(n_jobs=-1)]: Done 100 out of 100 | elapsed: 165.9min finished\n",
      "[Parallel(n_jobs=4)]: Using backend ThreadingBackend with 4 concurrent workers.\n",
      "[Parallel(n_jobs=4)]: Done  10 tasks      | elapsed:  1.7min\n",
      "[Parallel(n_jobs=4)]: Done  64 tasks      | elapsed:  9.3min\n",
      "[Parallel(n_jobs=4)]: Done 100 out of 100 | elapsed: 14.5min finished\n"
     ]
    },
    {
     "name": "stdout",
     "output_type": "stream",
     "text": [
      "              precision    recall  f1-score   support\n",
      "\n",
      "           0       1.00      0.57      0.72   3396530\n",
      "           1       0.07      0.92      0.12    113966\n",
      "\n",
      "    accuracy                           0.58   3510496\n",
      "   macro avg       0.53      0.74      0.42   3510496\n",
      "weighted avg       0.96      0.58      0.70   3510496\n",
      "\n",
      "[[0.56551157 0.43448843]\n",
      " [0.08260358 0.91739642]]\n"
     ]
    },
    {
     "data": {
      "text/plain": [
       "(None, None)"
      ]
     },
     "execution_count": 23,
     "metadata": {},
     "output_type": "execute_result"
    }
   ],
   "source": [
    "#Run the model sentence-wise (validation data)\n",
    "run_model(pipe, X_train_rev, y_train, X_val_rev, y_val)"
   ]
  },
  {
   "cell_type": "code",
   "execution_count": null,
   "metadata": {},
   "outputs": [],
   "source": []
  }
 ],
 "metadata": {
  "kernelspec": {
   "display_name": "Python 3",
   "language": "python",
   "name": "python3"
  },
  "language_info": {
   "codemirror_mode": {
    "name": "ipython",
    "version": 3
   },
   "file_extension": ".py",
   "mimetype": "text/x-python",
   "name": "python",
   "nbconvert_exporter": "python",
   "pygments_lexer": "ipython3",
   "version": "3.6.10"
  }
 },
 "nbformat": 4,
 "nbformat_minor": 4
}
