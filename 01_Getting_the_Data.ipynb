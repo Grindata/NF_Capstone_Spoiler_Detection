{
 "cells": [
  {
   "cell_type": "markdown",
   "metadata": {},
   "source": [
    "##### Spoiler Alert! Spoiler Detection Project"
   ]
  },
  {
   "cell_type": "markdown",
   "metadata": {},
   "source": [
    "## Getting the Data"
   ]
  },
  {
   "cell_type": "markdown",
   "metadata": {},
   "source": [
    "The data for this project is available at [UCSD Book Graph](https://sites.google.com/eng.ucsd.edu/ucsdbookgraph/home).\n",
    "For our project, we use three datasets:\n",
    " * The _Book Reviews Spoiler Subset_ containing English book reviews, where each book/user has at least one associated spoiler review. This dataset contains ca. 1.3 million reviews by about 19,000 users for about 25,000 books. Besides the review texts with markings for spoiler vs. no spoiler for every sentence, the datasets includes information on the overall book rating, user ID, book ID, review ID and a timestamp.\n",
    " * The _Detailed Book Graph_ containing meta data like book titles, average book ratings, number of pages, publication date, etc. As you'll see below, we will only use a few features.\n",
    " * The _Extracted Fuzzy Book Genres_ with the genre assigned to each book ID. "
   ]
  },
  {
   "cell_type": "markdown",
   "metadata": {},
   "source": [
    "### Imports "
   ]
  },
  {
   "cell_type": "code",
   "execution_count": 1,
   "metadata": {},
   "outputs": [],
   "source": [
    "reset -fs"
   ]
  },
  {
   "cell_type": "code",
   "execution_count": 2,
   "metadata": {},
   "outputs": [],
   "source": [
    "import json\n",
    "import gzip\n",
    "import pandas as pd\n",
    "import numpy as np\n",
    "from tqdm.notebook import tqdm as tqdm\n",
    "from collections import defaultdict"
   ]
  },
  {
   "cell_type": "code",
   "execution_count": 3,
   "metadata": {},
   "outputs": [],
   "source": [
    "#Disenable scientific notation for floats\n",
    "pd.options.display.float_format = '{:,}'.format\n",
    "\n",
    "#Enable viewing more (in this case: all) features of a dataset\n",
    "pd.set_option('display.max_columns', 500)"
   ]
  },
  {
   "cell_type": "markdown",
   "metadata": {},
   "source": [
    "### Load Data"
   ]
  },
  {
   "cell_type": "markdown",
   "metadata": {},
   "source": [
    "#### Book reviews"
   ]
  },
  {
   "cell_type": "code",
   "execution_count": 4,
   "metadata": {},
   "outputs": [],
   "source": [
    "#Load the data from a compressed json file\n",
    "reviews = []\n",
    "with gzip.open('data/GoodReads.json.gz') as f:\n",
    "    for l in f:\n",
    "        reviews.append(json.loads(l.strip()))"
   ]
  },
  {
   "cell_type": "code",
   "execution_count": 5,
   "metadata": {},
   "outputs": [],
   "source": [
    "#Convert the data into a pandas dataframe\n",
    "df_reviews = pd.DataFrame(reviews)"
   ]
  },
  {
   "cell_type": "code",
   "execution_count": 6,
   "metadata": {},
   "outputs": [
    {
     "data": {
      "text/html": [
       "<div>\n",
       "<style scoped>\n",
       "    .dataframe tbody tr th:only-of-type {\n",
       "        vertical-align: middle;\n",
       "    }\n",
       "\n",
       "    .dataframe tbody tr th {\n",
       "        vertical-align: top;\n",
       "    }\n",
       "\n",
       "    .dataframe thead th {\n",
       "        text-align: right;\n",
       "    }\n",
       "</style>\n",
       "<table border=\"1\" class=\"dataframe\">\n",
       "  <thead>\n",
       "    <tr style=\"text-align: right;\">\n",
       "      <th></th>\n",
       "      <th>user_id</th>\n",
       "      <th>timestamp</th>\n",
       "      <th>review_sentences</th>\n",
       "      <th>rating</th>\n",
       "      <th>has_spoiler</th>\n",
       "      <th>book_id</th>\n",
       "      <th>review_id</th>\n",
       "    </tr>\n",
       "  </thead>\n",
       "  <tbody>\n",
       "    <tr>\n",
       "      <th>0</th>\n",
       "      <td>8842281e1d1347389f2ab93d60773d4d</td>\n",
       "      <td>2017-08-30</td>\n",
       "      <td>[[0, This is a special book.], [0, It started ...</td>\n",
       "      <td>5</td>\n",
       "      <td>True</td>\n",
       "      <td>18245960</td>\n",
       "      <td>dfdbb7b0eb5a7e4c26d59a937e2e5feb</td>\n",
       "    </tr>\n",
       "    <tr>\n",
       "      <th>1</th>\n",
       "      <td>8842281e1d1347389f2ab93d60773d4d</td>\n",
       "      <td>2017-03-22</td>\n",
       "      <td>[[0, Recommended by Don Katz.], [0, Avail for ...</td>\n",
       "      <td>3</td>\n",
       "      <td>False</td>\n",
       "      <td>16981</td>\n",
       "      <td>a5d2c3628987712d0e05c4f90798eb67</td>\n",
       "    </tr>\n",
       "    <tr>\n",
       "      <th>2</th>\n",
       "      <td>8842281e1d1347389f2ab93d60773d4d</td>\n",
       "      <td>2017-03-20</td>\n",
       "      <td>[[0, A fun, fast paced science fiction thrille...</td>\n",
       "      <td>3</td>\n",
       "      <td>True</td>\n",
       "      <td>28684704</td>\n",
       "      <td>2ede853b14dc4583f96cf5d120af636f</td>\n",
       "    </tr>\n",
       "  </tbody>\n",
       "</table>\n",
       "</div>"
      ],
      "text/plain": [
       "                            user_id   timestamp  \\\n",
       "0  8842281e1d1347389f2ab93d60773d4d  2017-08-30   \n",
       "1  8842281e1d1347389f2ab93d60773d4d  2017-03-22   \n",
       "2  8842281e1d1347389f2ab93d60773d4d  2017-03-20   \n",
       "\n",
       "                                    review_sentences  rating  has_spoiler  \\\n",
       "0  [[0, This is a special book.], [0, It started ...       5         True   \n",
       "1  [[0, Recommended by Don Katz.], [0, Avail for ...       3        False   \n",
       "2  [[0, A fun, fast paced science fiction thrille...       3         True   \n",
       "\n",
       "    book_id                         review_id  \n",
       "0  18245960  dfdbb7b0eb5a7e4c26d59a937e2e5feb  \n",
       "1     16981  a5d2c3628987712d0e05c4f90798eb67  \n",
       "2  28684704  2ede853b14dc4583f96cf5d120af636f  "
      ]
     },
     "execution_count": 6,
     "metadata": {},
     "output_type": "execute_result"
    }
   ],
   "source": [
    "#Show first 3 rows of the dataframe \n",
    "df_reviews.head(3)"
   ]
  },
  {
   "cell_type": "code",
   "execution_count": 7,
   "metadata": {},
   "outputs": [],
   "source": [
    "#Rename columns for comfort (make them shorter)\n",
    "df_reviews.rename(columns = {'review_sentences': 'review', 'has_spoiler': 'spoiler', 'timestamp': 'time'}, inplace = True)"
   ]
  },
  {
   "cell_type": "markdown",
   "metadata": {},
   "source": [
    "#### Functions"
   ]
  },
  {
   "cell_type": "markdown",
   "metadata": {},
   "source": [
    "Our reviews dataset is only a small subset of the original data. Though, the assoiciated metadata files include information on the mich larger original dataset, i.e., contains a great amount of information on books which are not part of our review subset. \n",
    "Therefore, the following functions are used to fetch only the information on _our_ books via the book_ID.\n",
    "\n",
    "Additionally, we're only interested in few features of the _Detailed Book Graph_ data, so we only want to load these columns of the dataset:\n",
    "* book_id\n",
    "* title\n",
    "* decription\n",
    "* publication_year/ _month/ _day\n",
    "* average_rating\n",
    "* ratings_count\n",
    "* num_ratings"
   ]
  },
  {
   "cell_type": "code",
   "execution_count": 8,
   "metadata": {},
   "outputs": [],
   "source": [
    "# Function to get the data files\n",
    "def get_data(file):\n",
    "    \n",
    "    '''\n",
    "    Generator will yield lines of the passed file\n",
    "    '''\n",
    "    \n",
    "    with gzip.open(file, 'r') as f:\n",
    "        for l in f:\n",
    "            yield l"
   ]
  },
  {
   "cell_type": "code",
   "execution_count": 9,
   "metadata": {},
   "outputs": [],
   "source": [
    "# Fetch the features we are interested in.\n",
    "def fetch_features(file, features, book_list):\n",
    "    '''\n",
    "    Provide a list of features you want to extract in a single run.\n",
    "    Returns a dictionary.\n",
    "    \n",
    "    Parameters:\n",
    "    file: file you want to load\n",
    "    features: list of features you want to extract\n",
    "    book_list: containing all book IDs (--> rows) you want to load\n",
    "    '''\n",
    "    \n",
    "    feature_dict = defaultdict(list)\n",
    "    data = get_data(file)\n",
    "    \n",
    "    for l in tqdm(data):\n",
    "        data_dict = json.loads(l)\n",
    "        book_id = data_dict.get('book_id')\n",
    "        \n",
    "        try:\n",
    "            if book_id in book_list: \n",
    "                for f in features:\n",
    "                    feature_dict[f].append(data_dict.get(f))\n",
    "        except:\n",
    "            pass\n",
    "    return feature_dict"
   ]
  },
  {
   "cell_type": "code",
   "execution_count": 10,
   "metadata": {},
   "outputs": [],
   "source": [
    "#Fetch only one feature\n",
    "def fetch_one_feature(file, f):\n",
    "    '''\n",
    "    Provide a list of features you want to extract in a single run.\n",
    "    Returns a dictionary.\n",
    "    \n",
    "    Parameters:\n",
    "    file: file you want to load\n",
    "    f: feature you want to load\n",
    "    '''\n",
    "    \n",
    "    feature = []\n",
    "    data = get_data(file)\n",
    "    \n",
    "    for l in tqdm(data):\n",
    "        data_dict = json.loads(l)\n",
    "        feature.append(data_dict.get(f))\n",
    "    return feature"
   ]
  },
  {
   "cell_type": "code",
   "execution_count": 11,
   "metadata": {},
   "outputs": [
    {
     "data": {
      "application/vnd.jupyter.widget-view+json": {
       "model_id": "37be7f9faa4840b9b81818be2f0a91e3",
       "version_major": 2,
       "version_minor": 0
      },
      "text/plain": [
       "HBox(children=(FloatProgress(value=1.0, bar_style='info', layout=Layout(width='20px'), max=1.0), HTML(value=''…"
      ]
     },
     "metadata": {},
     "output_type": "display_data"
    },
    {
     "name": "stdout",
     "output_type": "stream",
     "text": [
      "\n"
     ]
    }
   ],
   "source": [
    "#file with metadata\n",
    "file_meta = 'data/goodreads_meta.json.gz'\n",
    "\n",
    "#file with reviews\n",
    "file_reviews = 'data/GoodReads.json.gz'\n",
    "\n",
    "#file with genres\n",
    "file_genre = 'data/goodreads_genre.json.gz'\n",
    "\n",
    "#features we want to extract\n",
    "features = ['book_id', 'title', 'description', 'publication_year', 'publication_month', \n",
    "            'publication_day', 'average_rating', 'ratings_count', 'num_pages']\n",
    "\n",
    "#book_list containing all book IDs in the reviews dataset:\n",
    "book_ids = set(fetch_one_feature(file_reviews, 'book_id'))"
   ]
  },
  {
   "cell_type": "markdown",
   "metadata": {},
   "source": [
    "#### Metadata Feature Extraction"
   ]
  },
  {
   "cell_type": "code",
   "execution_count": 12,
   "metadata": {},
   "outputs": [
    {
     "data": {
      "application/vnd.jupyter.widget-view+json": {
       "model_id": "3658e824b10d4cda957b3bd072654b2a",
       "version_major": 2,
       "version_minor": 0
      },
      "text/plain": [
       "HBox(children=(FloatProgress(value=1.0, bar_style='info', layout=Layout(width='20px'), max=1.0), HTML(value=''…"
      ]
     },
     "metadata": {},
     "output_type": "display_data"
    },
    {
     "name": "stdout",
     "output_type": "stream",
     "text": [
      "\n"
     ]
    }
   ],
   "source": [
    "#Get the metadata we are interested in with the function defined above\n",
    "features = fetch_features(file_meta, features, book_ids)"
   ]
  },
  {
   "cell_type": "code",
   "execution_count": 13,
   "metadata": {},
   "outputs": [
    {
     "data": {
      "text/html": [
       "<div>\n",
       "<style scoped>\n",
       "    .dataframe tbody tr th:only-of-type {\n",
       "        vertical-align: middle;\n",
       "    }\n",
       "\n",
       "    .dataframe tbody tr th {\n",
       "        vertical-align: top;\n",
       "    }\n",
       "\n",
       "    .dataframe thead th {\n",
       "        text-align: right;\n",
       "    }\n",
       "</style>\n",
       "<table border=\"1\" class=\"dataframe\">\n",
       "  <thead>\n",
       "    <tr style=\"text-align: right;\">\n",
       "      <th></th>\n",
       "      <th>book_id</th>\n",
       "      <th>title</th>\n",
       "      <th>description</th>\n",
       "      <th>publication_year</th>\n",
       "      <th>publication_month</th>\n",
       "      <th>publication_day</th>\n",
       "      <th>average_rating</th>\n",
       "      <th>ratings_count</th>\n",
       "      <th>num_pages</th>\n",
       "    </tr>\n",
       "  </thead>\n",
       "  <tbody>\n",
       "    <tr>\n",
       "      <th>0</th>\n",
       "      <td>22642971</td>\n",
       "      <td>The Body Electric</td>\n",
       "      <td>The future world is at peace.\\nElla Shepherd h...</td>\n",
       "      <td>2014</td>\n",
       "      <td>10</td>\n",
       "      <td>6</td>\n",
       "      <td>3.71</td>\n",
       "      <td>1525</td>\n",
       "      <td>351</td>\n",
       "    </tr>\n",
       "    <tr>\n",
       "      <th>1</th>\n",
       "      <td>32336119</td>\n",
       "      <td>Worth the Wait (Guthrie Brothers #2)</td>\n",
       "      <td>Ready or not...love will find a way \\nSingle d...</td>\n",
       "      <td>2017</td>\n",
       "      <td>7</td>\n",
       "      <td>25</td>\n",
       "      <td>4.19</td>\n",
       "      <td>693</td>\n",
       "      <td>384</td>\n",
       "    </tr>\n",
       "    <tr>\n",
       "      <th>2</th>\n",
       "      <td>2741853</td>\n",
       "      <td>Slow Hands</td>\n",
       "      <td>This is Maddy Turner's lucky day. The civilize...</td>\n",
       "      <td>2008</td>\n",
       "      <td>6</td>\n",
       "      <td>1</td>\n",
       "      <td>3.41</td>\n",
       "      <td>3852</td>\n",
       "      <td>210</td>\n",
       "    </tr>\n",
       "    <tr>\n",
       "      <th>3</th>\n",
       "      <td>12077902</td>\n",
       "      <td>Solaris: The Definitive Edition</td>\n",
       "      <td>A classic work of science fiction by renowned ...</td>\n",
       "      <td>2011</td>\n",
       "      <td>6</td>\n",
       "      <td>7</td>\n",
       "      <td>3.98</td>\n",
       "      <td>252</td>\n",
       "      <td>8</td>\n",
       "    </tr>\n",
       "    <tr>\n",
       "      <th>4</th>\n",
       "      <td>7843586</td>\n",
       "      <td>More (More, #1)</td>\n",
       "      <td>After a series of explosive encounters with tw...</td>\n",
       "      <td>2010</td>\n",
       "      <td>3</td>\n",
       "      <td>23</td>\n",
       "      <td>3.88</td>\n",
       "      <td>1675</td>\n",
       "      <td>245</td>\n",
       "    </tr>\n",
       "    <tr>\n",
       "      <th>5</th>\n",
       "      <td>18663972</td>\n",
       "      <td>Fortune's Pawn (Paradox, #1)</td>\n",
       "      <td>When professional mercenary Deviana Morris too...</td>\n",
       "      <td></td>\n",
       "      <td></td>\n",
       "      <td></td>\n",
       "      <td>3.96</td>\n",
       "      <td>1023</td>\n",
       "      <td>340</td>\n",
       "    </tr>\n",
       "    <tr>\n",
       "      <th>6</th>\n",
       "      <td>25501128</td>\n",
       "      <td>Kept from You (Tear Asunder, #4)</td>\n",
       "      <td>A sexy second-chance romance from New York Tim...</td>\n",
       "      <td>2017</td>\n",
       "      <td>3</td>\n",
       "      <td>5</td>\n",
       "      <td>4.36</td>\n",
       "      <td>1759</td>\n",
       "      <td></td>\n",
       "    </tr>\n",
       "    <tr>\n",
       "      <th>7</th>\n",
       "      <td>10806009</td>\n",
       "      <td>The Storyteller</td>\n",
       "      <td>A good girl.\\nA bad boy.\\nA fairy tale that's ...</td>\n",
       "      <td>2012</td>\n",
       "      <td>1</td>\n",
       "      <td>1</td>\n",
       "      <td>4.10</td>\n",
       "      <td>289</td>\n",
       "      <td>402</td>\n",
       "    </tr>\n",
       "    <tr>\n",
       "      <th>8</th>\n",
       "      <td>10806008</td>\n",
       "      <td>Peter Nimble and His Fantastic Eyes (Peter Nim...</td>\n",
       "      <td>Peter Nimble and His Fantastic Eyesis the utte...</td>\n",
       "      <td>2011</td>\n",
       "      <td>8</td>\n",
       "      <td>1</td>\n",
       "      <td>4.04</td>\n",
       "      <td>6049</td>\n",
       "      <td>400</td>\n",
       "    </tr>\n",
       "    <tr>\n",
       "      <th>9</th>\n",
       "      <td>9469517</td>\n",
       "      <td>Mercy</td>\n",
       "      <td></td>\n",
       "      <td>2009</td>\n",
       "      <td>2</td>\n",
       "      <td>1</td>\n",
       "      <td>3.64</td>\n",
       "      <td>3559</td>\n",
       "      <td>226</td>\n",
       "    </tr>\n",
       "  </tbody>\n",
       "</table>\n",
       "</div>"
      ],
      "text/plain": [
       "    book_id                                              title  \\\n",
       "0  22642971                                  The Body Electric   \n",
       "1  32336119               Worth the Wait (Guthrie Brothers #2)   \n",
       "2   2741853                                         Slow Hands   \n",
       "3  12077902                    Solaris: The Definitive Edition   \n",
       "4   7843586                                    More (More, #1)   \n",
       "5  18663972                       Fortune's Pawn (Paradox, #1)   \n",
       "6  25501128                   Kept from You (Tear Asunder, #4)   \n",
       "7  10806009                                    The Storyteller   \n",
       "8  10806008  Peter Nimble and His Fantastic Eyes (Peter Nim...   \n",
       "9   9469517                                              Mercy   \n",
       "\n",
       "                                         description publication_year  \\\n",
       "0  The future world is at peace.\\nElla Shepherd h...             2014   \n",
       "1  Ready or not...love will find a way \\nSingle d...             2017   \n",
       "2  This is Maddy Turner's lucky day. The civilize...             2008   \n",
       "3  A classic work of science fiction by renowned ...             2011   \n",
       "4  After a series of explosive encounters with tw...             2010   \n",
       "5  When professional mercenary Deviana Morris too...                    \n",
       "6  A sexy second-chance romance from New York Tim...             2017   \n",
       "7  A good girl.\\nA bad boy.\\nA fairy tale that's ...             2012   \n",
       "8  Peter Nimble and His Fantastic Eyesis the utte...             2011   \n",
       "9                                                                2009   \n",
       "\n",
       "  publication_month publication_day average_rating ratings_count num_pages  \n",
       "0                10               6           3.71          1525       351  \n",
       "1                 7              25           4.19           693       384  \n",
       "2                 6               1           3.41          3852       210  \n",
       "3                 6               7           3.98           252         8  \n",
       "4                 3              23           3.88          1675       245  \n",
       "5                                             3.96          1023       340  \n",
       "6                 3               5           4.36          1759            \n",
       "7                 1               1           4.10           289       402  \n",
       "8                 8               1           4.04          6049       400  \n",
       "9                 2               1           3.64          3559       226  "
      ]
     },
     "execution_count": 13,
     "metadata": {},
     "output_type": "execute_result"
    }
   ],
   "source": [
    "#Convert data to a pandas datadframe\n",
    "df_feat = pd.DataFrame.from_dict(features)\n",
    "\n",
    "#Show the first 10 rows of the dataframe\n",
    "df_feat.head(10)"
   ]
  },
  {
   "cell_type": "markdown",
   "metadata": {},
   "source": [
    "#### Metadata Genre Extraction"
   ]
  },
  {
   "cell_type": "code",
   "execution_count": 14,
   "metadata": {},
   "outputs": [
    {
     "data": {
      "application/vnd.jupyter.widget-view+json": {
       "model_id": "2294e9072ee14046a7a3bff7eca12ff1",
       "version_major": 2,
       "version_minor": 0
      },
      "text/plain": [
       "HBox(children=(FloatProgress(value=1.0, bar_style='info', layout=Layout(width='20px'), max=1.0), HTML(value=''…"
      ]
     },
     "metadata": {},
     "output_type": "display_data"
    },
    {
     "name": "stdout",
     "output_type": "stream",
     "text": [
      "\n"
     ]
    }
   ],
   "source": [
    "#Define the feartures we want to extract\n",
    "features = ['book_id', 'genres']\n",
    "\n",
    "#Get the features only for our book IDs with the function defined above\n",
    "genres = fetch_features(file_genre, features , book_ids)"
   ]
  },
  {
   "cell_type": "code",
   "execution_count": 15,
   "metadata": {},
   "outputs": [],
   "source": [
    "#Convert to pandas dataframe\n",
    "df_gen = pd.DataFrame.from_dict(genres)"
   ]
  },
  {
   "cell_type": "code",
   "execution_count": 16,
   "metadata": {},
   "outputs": [
    {
     "data": {
      "text/html": [
       "<div>\n",
       "<style scoped>\n",
       "    .dataframe tbody tr th:only-of-type {\n",
       "        vertical-align: middle;\n",
       "    }\n",
       "\n",
       "    .dataframe tbody tr th {\n",
       "        vertical-align: top;\n",
       "    }\n",
       "\n",
       "    .dataframe thead th {\n",
       "        text-align: right;\n",
       "    }\n",
       "</style>\n",
       "<table border=\"1\" class=\"dataframe\">\n",
       "  <thead>\n",
       "    <tr style=\"text-align: right;\">\n",
       "      <th></th>\n",
       "      <th>book_id</th>\n",
       "      <th>genres</th>\n",
       "    </tr>\n",
       "  </thead>\n",
       "  <tbody>\n",
       "    <tr>\n",
       "      <th>0</th>\n",
       "      <td>22642971</td>\n",
       "      <td>{'young-adult': 235, 'fiction': 182, 'romance'...</td>\n",
       "    </tr>\n",
       "    <tr>\n",
       "      <th>1</th>\n",
       "      <td>32336119</td>\n",
       "      <td>{'romance': 84, 'mystery, thriller, crime': 4,...</td>\n",
       "    </tr>\n",
       "    <tr>\n",
       "      <th>2</th>\n",
       "      <td>2741853</td>\n",
       "      <td>{'romance': 555, 'fiction': 61}</td>\n",
       "    </tr>\n",
       "    <tr>\n",
       "      <th>3</th>\n",
       "      <td>12077902</td>\n",
       "      <td>{'fiction': 2695, 'fantasy, paranormal': 358, ...</td>\n",
       "    </tr>\n",
       "    <tr>\n",
       "      <th>4</th>\n",
       "      <td>7843586</td>\n",
       "      <td>{'romance': 232, 'fiction': 11, 'mystery, thri...</td>\n",
       "    </tr>\n",
       "  </tbody>\n",
       "</table>\n",
       "</div>"
      ],
      "text/plain": [
       "    book_id                                             genres\n",
       "0  22642971  {'young-adult': 235, 'fiction': 182, 'romance'...\n",
       "1  32336119  {'romance': 84, 'mystery, thriller, crime': 4,...\n",
       "2   2741853                    {'romance': 555, 'fiction': 61}\n",
       "3  12077902  {'fiction': 2695, 'fantasy, paranormal': 358, ...\n",
       "4   7843586  {'romance': 232, 'fiction': 11, 'mystery, thri..."
      ]
     },
     "execution_count": 16,
     "metadata": {},
     "output_type": "execute_result"
    }
   ],
   "source": [
    "#Show the first 5 rows\n",
    "df_gen.head(5)"
   ]
  },
  {
   "cell_type": "markdown",
   "metadata": {},
   "source": [
    "#### Merge Dataframes"
   ]
  },
  {
   "cell_type": "markdown",
   "metadata": {},
   "source": [
    "Finally, we merge the three dataframes based on the book ID. "
   ]
  },
  {
   "cell_type": "code",
   "execution_count": 17,
   "metadata": {},
   "outputs": [],
   "source": [
    "#Make the final dataframe complete by adding the metadata\n",
    "df = df_reviews.merge(df_gen, on = 'book_id').merge(df_feat, on = 'book_id');"
   ]
  },
  {
   "cell_type": "code",
   "execution_count": 18,
   "metadata": {},
   "outputs": [
    {
     "data": {
      "text/html": [
       "<div>\n",
       "<style scoped>\n",
       "    .dataframe tbody tr th:only-of-type {\n",
       "        vertical-align: middle;\n",
       "    }\n",
       "\n",
       "    .dataframe tbody tr th {\n",
       "        vertical-align: top;\n",
       "    }\n",
       "\n",
       "    .dataframe thead th {\n",
       "        text-align: right;\n",
       "    }\n",
       "</style>\n",
       "<table border=\"1\" class=\"dataframe\">\n",
       "  <thead>\n",
       "    <tr style=\"text-align: right;\">\n",
       "      <th></th>\n",
       "      <th>user_id</th>\n",
       "      <th>time</th>\n",
       "      <th>review</th>\n",
       "      <th>rating</th>\n",
       "      <th>spoiler</th>\n",
       "      <th>book_id</th>\n",
       "      <th>review_id</th>\n",
       "      <th>genres</th>\n",
       "      <th>title</th>\n",
       "      <th>description</th>\n",
       "      <th>publication_year</th>\n",
       "      <th>publication_month</th>\n",
       "      <th>publication_day</th>\n",
       "      <th>average_rating</th>\n",
       "      <th>ratings_count</th>\n",
       "      <th>num_pages</th>\n",
       "    </tr>\n",
       "  </thead>\n",
       "  <tbody>\n",
       "    <tr>\n",
       "      <th>0</th>\n",
       "      <td>8842281e1d1347389f2ab93d60773d4d</td>\n",
       "      <td>2017-08-30</td>\n",
       "      <td>[[0, This is a special book.], [0, It started ...</td>\n",
       "      <td>5</td>\n",
       "      <td>True</td>\n",
       "      <td>18245960</td>\n",
       "      <td>dfdbb7b0eb5a7e4c26d59a937e2e5feb</td>\n",
       "      <td>{'fiction': 393, 'fantasy, paranormal': 341, '...</td>\n",
       "      <td>The Three-Body Problem (Remembrance of Earth’s...</td>\n",
       "      <td>The Three-Body Problemis the first chance for ...</td>\n",
       "      <td>2014</td>\n",
       "      <td>10</td>\n",
       "      <td>14</td>\n",
       "      <td>4.01</td>\n",
       "      <td>6336</td>\n",
       "      <td>400</td>\n",
       "    </tr>\n",
       "    <tr>\n",
       "      <th>1</th>\n",
       "      <td>1a2398eca437fed5d9add310a0c09611</td>\n",
       "      <td>2015-10-21</td>\n",
       "      <td>[[0, Average between the 4 star concepts (over...</td>\n",
       "      <td>3</td>\n",
       "      <td>False</td>\n",
       "      <td>18245960</td>\n",
       "      <td>b88eb6519a046159a31afcc21a448b6f</td>\n",
       "      <td>{'fiction': 393, 'fantasy, paranormal': 341, '...</td>\n",
       "      <td>The Three-Body Problem (Remembrance of Earth’s...</td>\n",
       "      <td>The Three-Body Problemis the first chance for ...</td>\n",
       "      <td>2014</td>\n",
       "      <td>10</td>\n",
       "      <td>14</td>\n",
       "      <td>4.01</td>\n",
       "      <td>6336</td>\n",
       "      <td>400</td>\n",
       "    </tr>\n",
       "  </tbody>\n",
       "</table>\n",
       "</div>"
      ],
      "text/plain": [
       "                            user_id        time  \\\n",
       "0  8842281e1d1347389f2ab93d60773d4d  2017-08-30   \n",
       "1  1a2398eca437fed5d9add310a0c09611  2015-10-21   \n",
       "\n",
       "                                              review  rating  spoiler  \\\n",
       "0  [[0, This is a special book.], [0, It started ...       5     True   \n",
       "1  [[0, Average between the 4 star concepts (over...       3    False   \n",
       "\n",
       "    book_id                         review_id  \\\n",
       "0  18245960  dfdbb7b0eb5a7e4c26d59a937e2e5feb   \n",
       "1  18245960  b88eb6519a046159a31afcc21a448b6f   \n",
       "\n",
       "                                              genres  \\\n",
       "0  {'fiction': 393, 'fantasy, paranormal': 341, '...   \n",
       "1  {'fiction': 393, 'fantasy, paranormal': 341, '...   \n",
       "\n",
       "                                               title  \\\n",
       "0  The Three-Body Problem (Remembrance of Earth’s...   \n",
       "1  The Three-Body Problem (Remembrance of Earth’s...   \n",
       "\n",
       "                                         description publication_year  \\\n",
       "0  The Three-Body Problemis the first chance for ...             2014   \n",
       "1  The Three-Body Problemis the first chance for ...             2014   \n",
       "\n",
       "  publication_month publication_day average_rating ratings_count num_pages  \n",
       "0                10              14           4.01          6336       400  \n",
       "1                10              14           4.01          6336       400  "
      ]
     },
     "execution_count": 18,
     "metadata": {},
     "output_type": "execute_result"
    }
   ],
   "source": [
    "df.head(2)"
   ]
  },
  {
   "cell_type": "code",
   "execution_count": 19,
   "metadata": {},
   "outputs": [
    {
     "name": "stderr",
     "output_type": "stream",
     "text": [
      "/opt/anaconda3/envs/nf/lib/python3.6/site-packages/pandas/core/generic.py:2446: PerformanceWarning: \n",
      "your performance may suffer as PyTables will pickle object types that it cannot\n",
      "map directly to c-types [inferred_type->mixed,key->block2_values] [items->Index(['user_id', 'time', 'review', 'book_id', 'review_id', 'genres', 'title',\n",
      "       'description', 'publication_year', 'publication_month',\n",
      "       'publication_day', 'average_rating', 'ratings_count', 'num_pages'],\n",
      "      dtype='object')]\n",
      "\n",
      "  encoding=encoding,\n"
     ]
    }
   ],
   "source": [
    "#Save the data as HDF5-file. The HDF5 format is chosen since it, as opposed to CSV, stores data types.\n",
    "df.to_hdf('data/complete_data.h5', complevel = 0, key = 'complete')"
   ]
  }
 ],
 "metadata": {
  "kernelspec": {
   "display_name": "Python 3",
   "language": "python",
   "name": "python3"
  },
  "language_info": {
   "codemirror_mode": {
    "name": "ipython",
    "version": 3
   },
   "file_extension": ".py",
   "mimetype": "text/x-python",
   "name": "python",
   "nbconvert_exporter": "python",
   "pygments_lexer": "ipython3",
   "version": "3.6.10"
  }
 },
 "nbformat": 4,
 "nbformat_minor": 4
}
