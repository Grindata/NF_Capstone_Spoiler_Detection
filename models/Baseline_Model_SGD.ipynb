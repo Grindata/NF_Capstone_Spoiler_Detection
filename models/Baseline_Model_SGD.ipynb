{
 "cells": [
  {
   "cell_type": "markdown",
   "metadata": {},
   "source": [
    "##### Silver Speech and Golden Silence: Spoiler Detection Project"
   ]
  },
  {
   "cell_type": "markdown",
   "metadata": {},
   "source": [
    "### Baseline Stochastic Gradient Descent Classifier"
   ]
  },
  {
   "cell_type": "code",
   "execution_count": 1,
   "metadata": {},
   "outputs": [],
   "source": [
    "#Imports\n",
    "import pandas as pd\n",
    "import numpy as np\n",
    "import matplotlib.pyplot as plt\n",
    "from tqdm import tqdm\n",
    "from sklearn.feature_extraction.text import TfidfVectorizer\n",
    "from sklearn.linear_model import SGDClassifier\n",
    "from sklearn.metrics import classification_report\n",
    "from sklearn.pipeline import Pipeline\n",
    "from sklearn.linear_model import SGDClassifier"
   ]
  },
  {
   "cell_type": "code",
   "execution_count": 2,
   "metadata": {},
   "outputs": [],
   "source": [
    "#Disable scientific notation for floats\n",
    "pd.options.display.float_format = '{:,}'.format\n",
    "\n",
    "#Enable viewing more (in this case: all) features of a dataset\n",
    "pd.set_option('display.max_columns', 500)\n",
    "\n",
    "#ignore warnings\n",
    "import warnings\n",
    "warnings.filterwarnings(\"ignore\")"
   ]
  },
  {
   "cell_type": "code",
   "execution_count": 3,
   "metadata": {},
   "outputs": [],
   "source": [
    "#Load datafiles\n",
    "train = pd.read_json('data/train_preprocessed.json')"
   ]
  },
  {
   "cell_type": "code",
   "execution_count": 4,
   "metadata": {},
   "outputs": [],
   "source": [
    "val = pd.read_json('data/validation_preprocessed.json')"
   ]
  },
  {
   "cell_type": "markdown",
   "metadata": {},
   "source": [
    "### Model: SGD-Classifier"
   ]
  },
  {
   "cell_type": "markdown",
   "metadata": {},
   "source": [
    "Stochastic Gradient Descent (SGD) is a simple and very efficient approach to fitting linear classifiers under convex loss functions such as (linear) Support Vector Machines and Logistic Regression. \n",
    "\n",
    "SGD has been successfully applied to large-scale machine learning problems often encountered in text classification and natural language processing. \n",
    "\n",
    "Therefore, we use this a approach as a basic model for spoiler detection.\n",
    "\n",
    "We calculate two kinds of models: In the first one, the reviews are fed sentence-wise to the classifier, in the second one, we give in the whole review. "
   ]
  },
  {
   "cell_type": "markdown",
   "metadata": {},
   "source": [
    "#### First model: Feed the reviews sentence-wise"
   ]
  },
  {
   "cell_type": "code",
   "execution_count": 5,
   "metadata": {},
   "outputs": [],
   "source": [
    "#Function to transfer the review sentences to a list and then to a numpy array for training.\n",
    "def get_X_sen(df):\n",
    "    \n",
    "    '''Get review sentences from a dataframe df given in.\n",
    "    The review sentences are written in a list 'lst' which is then transformed\n",
    "    into a numpy array'''\n",
    "    \n",
    "    lst = []\n",
    "    for review in df['tokenized']:\n",
    "        for sentence in review:\n",
    "            lst.append(sentence)\n",
    "    X = np.array(lst) \n",
    "    return X "
   ]
  },
  {
   "cell_type": "code",
   "execution_count": 6,
   "metadata": {},
   "outputs": [],
   "source": [
    "#Function to transfer the review labels for each review sentence to a list and then to a numpy array for training.\n",
    "def get_y_sen(df):\n",
    "    \n",
    "    '''Get review labels for each sentence from a dataframe df given in.\n",
    "    The review sentences are written in a list 'llst' which is then transformed\n",
    "    into a numpy array'''\n",
    "    \n",
    "    llst = []\n",
    "    for labellist in df['sentence_labels']:\n",
    "        for label in labellist:\n",
    "            llst.append(label)\n",
    "    y = np.array(llst)\n",
    "    return y"
   ]
  },
  {
   "cell_type": "code",
   "execution_count": 7,
   "metadata": {},
   "outputs": [
    {
     "name": "stdout",
     "output_type": "stream",
     "text": [
      "(12372436,) (12372436,)\n"
     ]
    }
   ],
   "source": [
    "#Get X and y (train) with sentence-wise review texts\n",
    "X_train_sen = get_X_sen(train)\n",
    "y_train_sen = get_y_sen(train)\n",
    "\n",
    "print(y_train_sen.shape, X_train_sen.shape)"
   ]
  },
  {
   "cell_type": "code",
   "execution_count": 8,
   "metadata": {},
   "outputs": [
    {
     "name": "stdout",
     "output_type": "stream",
     "text": [
      "(3510496,) (3510496,)\n"
     ]
    }
   ],
   "source": [
    "#Get X and y (validation) with sentence-wise review texts\n",
    "X_val_sen = get_X_sen(val)\n",
    "y_val_sen = get_y_sen(val)\n",
    "\n",
    "print(y_val_sen.shape, X_val_sen.shape)"
   ]
  },
  {
   "cell_type": "code",
   "execution_count": 10,
   "metadata": {},
   "outputs": [],
   "source": [
    "#Build a pipeline for feature extraction with TF IDF and SGD\n",
    "#TFIDF\n",
    "tfidf = TfidfVectorizer(stop_words = 'english', ngram_range = (1,1), min_df = 100, max_features = 5000)\n",
    "#SGD\n",
    "sgd = SGDClassifier(random_state = 42, penalty = 'l2', shuffle = True, n_jobs = -1, max_iter = 1000, \n",
    "                                       loss = 'hinge', class_weight = {0: 0.5, 1: .5}, alpha = .0001)\n",
    "pipe = Pipeline([('tfidf', tfidf),('sgd', sgd)])"
   ]
  },
  {
   "cell_type": "code",
   "execution_count": 9,
   "metadata": {},
   "outputs": [],
   "source": [
    "#Function to run a model and print the classification report\n",
    "def run_sgd(pipeline, X_train, y_train, X_test, y_test):\n",
    "    #Fit the model\n",
    "    sgd = pipeline.fit(X_train, y_train)\n",
    "    \n",
    "    #Predict labels of test data\n",
    "    y_pred = pipeline.predict(X_test)\n",
    "    \n",
    "    return print(classification_report(y_test, y_pred))"
   ]
  },
  {
   "cell_type": "code",
   "execution_count": 12,
   "metadata": {},
   "outputs": [
    {
     "name": "stdout",
     "output_type": "stream",
     "text": [
      "              precision    recall  f1-score   support\n",
      "\n",
      "           0       0.97      1.00      0.98   3396530\n",
      "           1       0.00      0.00      0.00    113966\n",
      "\n",
      "    accuracy                           0.97   3510496\n",
      "   macro avg       0.48      0.50      0.49   3510496\n",
      "weighted avg       0.94      0.97      0.95   3510496\n",
      "\n"
     ]
    }
   ],
   "source": [
    "run_sgd(pipe, X_train_sen, y_train_sen, X_val_sen, y_val_sen)"
   ]
  },
  {
   "cell_type": "markdown",
   "metadata": {},
   "source": [
    "The basic model is completely fails to detect spoilers.\n",
    "We tune the hyperparameters."
   ]
  },
  {
   "cell_type": "code",
   "execution_count": 18,
   "metadata": {},
   "outputs": [],
   "source": [
    "#Build a pipeline for feature extraction with TF IDF and SGD\n",
    "#TFIDF\n",
    "tfidf = TfidfVectorizer(stop_words = 'english', ngram_range = (1,2), min_df = 1)\n",
    "#SGD\n",
    "sgd = SGDClassifier(random_state = 42, penalty = 'elasticnet', alpha = .001, class_weight = {0: 0.3, 1: 0.7}, \n",
    "                    l1_ratio = 0, max_iter = 1000, loss = 'perceptron', shuffle = True, n_jobs = -1)\n",
    "pipe = Pipeline([('tfidf', tfidf), ('sgd', sgd)])"
   ]
  },
  {
   "cell_type": "code",
   "execution_count": 14,
   "metadata": {},
   "outputs": [
    {
     "name": "stdout",
     "output_type": "stream",
     "text": [
      "              precision    recall  f1-score   support\n",
      "\n",
      "           0       0.98      0.97      0.98   3396530\n",
      "           1       0.39      0.53      0.45    113966\n",
      "\n",
      "    accuracy                           0.96   3510496\n",
      "   macro avg       0.69      0.75      0.71   3510496\n",
      "weighted avg       0.96      0.96      0.96   3510496\n",
      "\n"
     ]
    }
   ],
   "source": [
    "run_sgd(pipe, X_train_sen, y_train_sen, X_val_sen, y_val_sen)"
   ]
  },
  {
   "cell_type": "markdown",
   "metadata": {},
   "source": [
    "This is better. Let's try another one."
   ]
  },
  {
   "cell_type": "code",
   "execution_count": 15,
   "metadata": {},
   "outputs": [],
   "source": [
    "#Build a pipeline for feature extraction with TF IDF and SGD\n",
    "#TFIDF\n",
    "tfidf = TfidfVectorizer(stop_words = 'english', ngram_range = (1,2), min_df = 100)\n",
    "#SGD\n",
    "sgd = SGDClassifier(random_state = 42, penalty = 'l2',alpha = .0001, class_weight = {0: 0.35, 1: 0.65}, \n",
    "                    max_iter = 1000, loss = 'hinge', shuffle = True, n_jobs = -1)\n",
    "pipe = Pipeline([('tfidf', tfidf), ('sgd', sgd)])"
   ]
  },
  {
   "cell_type": "code",
   "execution_count": 16,
   "metadata": {},
   "outputs": [
    {
     "name": "stdout",
     "output_type": "stream",
     "text": [
      "              precision    recall  f1-score   support\n",
      "\n",
      "           0       0.97      1.00      0.98   3396530\n",
      "           1       0.00      0.00      0.00    113966\n",
      "\n",
      "    accuracy                           0.97   3510496\n",
      "   macro avg       0.48      0.50      0.49   3510496\n",
      "weighted avg       0.94      0.97      0.95   3510496\n",
      "\n"
     ]
    }
   ],
   "source": [
    "run_sgd(pipe, X_train_sen, y_train_sen, X_val_sen, y_val_sen)"
   ]
  },
  {
   "cell_type": "markdown",
   "metadata": {},
   "source": [
    "#### Second model: review-wise modelling"
   ]
  },
  {
   "cell_type": "markdown",
   "metadata": {},
   "source": [
    "Now we use the whole review as predictor. "
   ]
  },
  {
   "cell_type": "code",
   "execution_count": 8,
   "metadata": {},
   "outputs": [],
   "source": [
    "#For review-wise model training: Transfer sentences to np.array:\n",
    "def reviewwise_X(df):\n",
    "    reviews = []\n",
    "    for review in df['tokenized']: \n",
    "        reviews.append(' '.join(review))\n",
    "    X = np.array(reviews)\n",
    "    return X"
   ]
  },
  {
   "cell_type": "code",
   "execution_count": 9,
   "metadata": {},
   "outputs": [
    {
     "name": "stdout",
     "output_type": "stream",
     "text": [
      "(962875,) (962875,)\n"
     ]
    }
   ],
   "source": [
    "X_train_rev = reviewwise_X(train)\n",
    "y_train_rev = train.spoiler_dum\n",
    "print(X_train_rev.shape, y_train_rev.shape)"
   ]
  },
  {
   "cell_type": "code",
   "execution_count": 10,
   "metadata": {},
   "outputs": [
    {
     "name": "stdout",
     "output_type": "stream",
     "text": [
      "(253403,) (253403,)\n"
     ]
    }
   ],
   "source": [
    "X_val_rev = reviewwise_X(val)\n",
    "y_val_rev = val.spoiler_dum\n",
    "print(X_val_rev.shape, y_val_rev.shape)"
   ]
  },
  {
   "cell_type": "markdown",
   "metadata": {},
   "source": [
    "We begin with the best model from sentence-wise modelling."
   ]
  },
  {
   "cell_type": "code",
   "execution_count": 13,
   "metadata": {},
   "outputs": [],
   "source": [
    "#Build a pipeline for feature extraction with TF IDF and SGD\n",
    "#TFIDF\n",
    "tfidf = TfidfVectorizer(stop_words = 'english', ngram_range = (1,2), min_df = 100)\n",
    "#SGD\n",
    "sgd = SGDClassifier(random_state = 42, penalty = 'elasticnet', alpha = .001, class_weight = {0: 0.3, 1: 0.7}, \n",
    "                    l1_ratio = 0, max_iter = 1000, loss = 'perceptron', shuffle = True, n_jobs = -1)\n",
    "pipe = Pipeline([('tfidf', tfidf), ('sgd', sgd)])"
   ]
  },
  {
   "cell_type": "code",
   "execution_count": 15,
   "metadata": {},
   "outputs": [
    {
     "name": "stdout",
     "output_type": "stream",
     "text": [
      "              precision    recall  f1-score   support\n",
      "\n",
      "           0       0.95      0.95      0.95    235341\n",
      "           1       0.36      0.40      0.38     18062\n",
      "\n",
      "    accuracy                           0.91    253403\n",
      "   macro avg       0.66      0.67      0.66    253403\n",
      "weighted avg       0.91      0.91      0.91    253403\n",
      "\n"
     ]
    }
   ],
   "source": [
    "run_sgd(pipe, X_train_rev, y_train_rev, X_val_rev, y_val_rev)"
   ]
  },
  {
   "cell_type": "markdown",
   "metadata": {},
   "source": [
    "Hyperparameter-Tuning..."
   ]
  },
  {
   "cell_type": "code",
   "execution_count": 16,
   "metadata": {},
   "outputs": [],
   "source": [
    "#Build a pipeline for feature extraction with TF IDF and SGD\n",
    "#TFIDF\n",
    "tfidf = TfidfVectorizer(stop_words = 'english', ngram_range = (1,1), min_df = 1)\n",
    "#SGD\n",
    "sgd = SGDClassifier(random_state = 42, penalty = 'l2', shuffle = True, n_jobs = -1, max_iter = 1000, \n",
    "                                       loss = 'hinge', class_weight = {0: 0.5, 1: .5}, alpha = .0001)\n",
    "\n",
    "pipe = Pipeline([('tfidf', tfidf),('sgd', sgd)])"
   ]
  },
  {
   "cell_type": "code",
   "execution_count": 17,
   "metadata": {},
   "outputs": [
    {
     "name": "stdout",
     "output_type": "stream",
     "text": [
      "              precision    recall  f1-score   support\n",
      "\n",
      "           0       0.93      1.00      0.96    235341\n",
      "           1       0.00      0.00      0.00     18062\n",
      "\n",
      "    accuracy                           0.93    253403\n",
      "   macro avg       0.46      0.50      0.48    253403\n",
      "weighted avg       0.86      0.93      0.89    253403\n",
      "\n"
     ]
    }
   ],
   "source": [
    "run_sgd(pipe, X_train_rev, y_train_rev, X_val_rev, y_val_rev)"
   ]
  },
  {
   "cell_type": "markdown",
   "metadata": {},
   "source": [
    "The best baseline model is the one with sentence-wise training and the following hyperparameters:\n",
    "\n",
    "tfidf = TfidfVectorizer(stop_words = 'english', ngram_range = (1,2), min_df = 1)\n",
    "\n",
    "SGDClassifier(random_state = 42, penalty = 'l2', alpha = .001, class_weight = {0: 0.3, 1: 0.7}, \n",
    "                    max_iter = 1000, loss = 'perceptron', shuffle = True, n_jobs = -1)"
   ]
  }
 ],
 "metadata": {
  "kernelspec": {
   "display_name": "Python 3",
   "language": "python",
   "name": "python3"
  },
  "language_info": {
   "codemirror_mode": {
    "name": "ipython",
    "version": 3
   },
   "file_extension": ".py",
   "mimetype": "text/x-python",
   "name": "python",
   "nbconvert_exporter": "python",
   "pygments_lexer": "ipython3",
   "version": "3.6.10"
  }
 },
 "nbformat": 4,
 "nbformat_minor": 4
}
